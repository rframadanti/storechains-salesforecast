{
 "cells": [
  {
   "cell_type": "code",
   "execution_count": 14,
   "metadata": {},
   "outputs": [],
   "source": [
    "import pandas as pd\n",
    "import math as m\n",
    "import numpy as np\n",
    "import matplotlib.pyplot as plt\n",
    "import matplotlib.dates as mdates\n",
    "\n",
    "from time import time\n",
    "from sklearn.preprocessing import LabelEncoder, OneHotEncoder\n",
    "from sklearn.preprocessing import MinMaxScaler\n",
    "from sklearn.model_selection import train_test_split\n",
    "from sklearn.linear_model import LinearRegression\n",
    "from sklearn.ensemble import RandomForestRegressor\n",
    "from sklearn.metrics import mean_squared_error\n",
    "from statsmodels.tsa.arima_model import ARIMA"
   ]
  },
  {
   "cell_type": "code",
   "execution_count": 15,
   "metadata": {},
   "outputs": [
    {
     "data": {
      "text/plain": [
       "'To display up to 50 columns of dataset'"
      ]
     },
     "execution_count": 15,
     "metadata": {},
     "output_type": "execute_result"
    },
    {
     "data": {
      "text/plain": [
       "'To display all outputs of each cell'"
      ]
     },
     "execution_count": 15,
     "metadata": {},
     "output_type": "execute_result"
    },
    {
     "data": {
      "text/plain": [
       "'To get a timing of each function decorated'"
      ]
     },
     "execution_count": 15,
     "metadata": {},
     "output_type": "execute_result"
    }
   ],
   "source": [
    "\"\"\"To display up to 50 columns of dataset\"\"\"\n",
    "pd.set_option('display.max_columns', 50)\n",
    "pd.set_option('display.max_rows', 8)\n",
    "\n",
    "\"\"\"To display all outputs of each cell\"\"\"\n",
    "from IPython.core.interactiveshell import InteractiveShell\n",
    "InteractiveShell.ast_node_interactivity = \"all\"\n",
    "\n",
    "\n",
    "np.random.seed(100)\n",
    "\n",
    "\"\"\"To get a timing of each function decorated\"\"\"\n",
    "def timing(f):\n",
    "    \"\"\"\n",
    "    Decorator for timing functions\n",
    "    Usage:\n",
    "    @timing\n",
    "    def function(&):\n",
    "        pass\n",
    "    \"\"\"\n",
    "    \n",
    "    \n",
    "    def wrapper(*args, **kwargs):\n",
    "        start = time()\n",
    "        result = f(*args, **kwargs)\n",
    "        end = time()\n",
    "        print('function:%r took: %2.2f sec' % (f.__name__, end - start))\n",
    "        return result\n",
    "    return wrapper"
   ]
  },
  {
   "cell_type": "code",
   "execution_count": 3,
   "metadata": {},
   "outputs": [],
   "source": [
    "class Trainer():\n",
    "    \"\"\"Base processor to be used for all preparation\"\"\"\"\"\n",
    "    def __init__(self, input_directory, df_): #input_directory = path to the folder containing df. \n",
    "        self.input_directory = input_directory\n",
    "        self.df = df_\n",
    "                \n",
    "    @timing\n",
    "    def read(self):\n",
    "        \"\"\"Read raw data\"\"\"\n",
    "        self.df = pd.read_csv(self.input_directory + self.df)\n",
    "             \n",
    "    @timing\n",
    "    def preprocessing(self):\n",
    "        \"\"\"processing of the input data\"\"\"\n",
    "            \n",
    "        #type change to category where needed\n",
    "        self.category_columns = [\"Store\", \"StoreType\", \"Assortment\", \"DayOfWeek\", \"PromoInterval\", \"StateHoliday\",\n",
    "                                 \"OpeningType\", \"Month\", \"WeekOfYear\", \"DateOfMonth\", \"AffectedByCompetition\", \n",
    "                                 \"AffectedByPromo2\", \"StateHoliday\", \"SchoolHoliday\", \"Promo\", \"Promo2\"]\n",
    "        \n",
    "        for column in self.category_columns:\n",
    "            self.df[column] = self.df[column].astype('category')\n",
    "            \n",
    "        self.binary_columns = [\"AffectedByCompetition\", \"AffectedByPromo2\", \"SchoolHoliday\", \"Promo\", \"Promo2\"]\n",
    "     \n",
    "        for column in self.binary_columns:\n",
    "            self.df[column] = self.df[column].astype('bool')\n",
    "            \n",
    "        self.df = pd.get_dummies(self.df, columns=[\"StoreType\", \"Assortment\", \"DayOfWeek\", \"PromoInterval\", \n",
    "                                                   \"StateHoliday\", \"OpeningType\", \"Month\", \"WeekOfYear\", \n",
    "                                                   \"DateOfMonth\", \"StateHoliday\"])\n",
    "        \n",
    "        #Scale Interval Variables\n",
    "        #self.normalize = MinMaxScaler(feature_range = (0,1))\n",
    "        \n",
    "        \n",
    "        #extract only data of open stores\n",
    "        self.df_open = self.df[self.df[\"Open\"] == 1]\n",
    "        self.df = self.df_open\n",
    "        \n",
    "        #Re_indexation \n",
    "        self.df = self.df.reset_index(drop='True')\n",
    "        \n",
    "        \"\"\"put the date as index\"\"\"\n",
    "        self.df[\"Date\"] = pd.to_datetime(self.df[\"Date\"].astype(str), format = '%Y/%m/%d')\n",
    "        self.df = self.df.set_index(\"Date\")\n",
    "            \n",
    "            \n",
    "        self.df = self.df.drop([\"CompetitionOpenSinceMonth\", \"CompetitionOpenSinceYear\", \n",
    "                                \"Promo2SinceWeek\", \"Promo2SinceYear\", \"Promo2SinceDate\", \"CompetitionOpenSinceDate\",\n",
    "                               \"Customers\", \"Open\"], axis = 1)\n",
    "        \n",
    "        \n",
    "        self.train_df = self.df[\"2013-01-01\": \"2015-06-13\"]\n",
    "        self.test_df = self.df[\"2015-06-14\":]\n",
    "             \n",
    "        self.y_train, self.y_test = self.train_df[['Sales']], self.test_df[[\"Sales\"]]\n",
    "        #self.standardize = StandardScaler()\n",
    "        #self.normalize = MinMaxScaler(feature_range = (0,1))\n",
    "        \n",
    "        #self.y_train = np.sqrt(self.y_train)\n",
    "        #self.y_train = self.standardize.fit_transform(self.y_train)\n",
    "        \n",
    "        self.X_train = self.train_df.drop([\"Sales\"], axis = 1)\n",
    "        self.X_test = self.test_df.drop([\"Sales\"], axis = 1)\n",
    "        \n",
    "        self.X_train_random, self.X_test_random, self.y_train_random, self.y_test_random = train_test_split(self.df.drop([\"Sales\"], axis = 1), self.df[['Sales']], test_size=0.2)\n",
    "        \n",
    "    \n",
    "    @timing\n",
    "    def model_fit(self):\n",
    "        self.model = LinearRegression()\n",
    "        self.model.fit(self.X_train, self.y_train)\n",
    "    \n",
    "    @timing\n",
    "    def model_fit_random(self):\n",
    "        self.model_random = LinearRegression()\n",
    "        self.model_random.fit(self.X_train_random, self.y_train_random)     \n",
    "        \n",
    "    @timing\n",
    "    def validation(self, nb_store):\n",
    "        self.predicted = self.model.predict(self.X_test[self.X_test[\"Store\"] == nb_store])\n",
    "        self.predicted = self.predicted.reshape(-1, 1)\n",
    "        #self.predicted = self.standardize.inverse_transform(self.predicted)\n",
    "        #self.predicted = np.square(self.predicted)\n",
    "        \n",
    "        \n",
    "        plt.figure(figsize=(18, 7), dpi= 80, facecolor='w', edgecolor='k')\n",
    "        plt.plot(self.y_test[self.X_test[\"Store\"] == nb_store].index, self.predicted, color = 'blue',label = 'Predicted values')\n",
    "        plt.plot(self.y_test[self.X_test[\"Store\"] == nb_store], color = 'red', label = 'Real values')\n",
    "        plt.legend()\n",
    "        \n",
    "        self.errors = abs(self.predicted - self.y_test[self.X_test[\"Store\"] == nb_store])\n",
    "        \n",
    "        print('Mean Absolute Error:', round(np.mean(self.errors), 2))\n",
    "        print('RMSE', round(m.sqrt(mean_squared_error(self.predicted, self.y_test[self.X_test[\"Store\"] == nb_store])), 2))\n",
    "        return \n",
    "    \n",
    "    @timing\n",
    "    def rmse(self):\n",
    "        self.predicted = self.model.predict(self.X_test)\n",
    "        self.predicted = self.predicted.reshape(-1, 1)\n",
    "        #self.predicted = self.standardize.inverse_transform(self.predicted)\n",
    "        #self.predicted = np.square(self.predicted)\n",
    "\n",
    "        self.errors = abs(self.predicted - self.y_test)\n",
    "        print('Mean Absolute Error:', round(np.mean(self.errors), 2))\n",
    "        print('RMSE', round(m.sqrt(mean_squared_error(self.predicted, self.y_test)), 2))\n",
    "        \n",
    "    @timing\n",
    "    def rmse_random(self):\n",
    "        self.predicted_ran = self.model_random.predict(self.X_test_random)\n",
    "        self.predicted_ran = self.predicted_ran.reshape(-1, 1)\n",
    "        #self.predicted_ran = self.standardize.inverse_transform(self.predicted_ran)\n",
    "        #self.predicted_ran = np.square(self.predicted_ran)\n",
    "\n",
    "        self.errors_ran = abs(self.predicted_ran - self.y_test_random)\n",
    "        print('Mean Absolute Error:', round(np.mean(self.errors_ran), 2))\n",
    "        print('RMSE', round(m.sqrt(mean_squared_error(self.predicted_ran, self.y_test_random)), 2))\n",
    "        \n",
    "    def save_result(self, nb_store):\n",
    "        self.result = self.y_test[self.X_test[\"Store\"] == nb_store]\n",
    "        self.predicted_store = self.model.predict(self.X_test[self.X_test[\"Store\"] == nb_store])\n",
    "        self.error_store = abs(self.predicted_store.reshape(-1, 1) - self.y_test[self.X_test[\"Store\"] == nb_store])\n",
    "\n",
    "        self.result[\"predicted_LR\"] = self.predicted_store\n",
    "        self.result[\"error_LR\"] = self.error_store\n",
    "        \n",
    "        return self.result\n",
    "        "
   ]
  },
  {
   "cell_type": "code",
   "execution_count": 4,
   "metadata": {},
   "outputs": [
    {
     "name": "stdout",
     "output_type": "stream",
     "text": [
      "function:'read' took: 2.29 sec\n",
      "function:'preprocessing' took: 4.55 sec\n"
     ]
    }
   ],
   "source": [
    "project = Trainer(\"/Users/rfdanti/Documents/UoM/2_data_analytics/coursework/CODE/\", \"full_trainset_v2.csv\")\n",
    "project.read()\n",
    "project.preprocessing()"
   ]
  },
  {
   "cell_type": "code",
   "execution_count": 5,
   "metadata": {
    "scrolled": true
   },
   "outputs": [
    {
     "name": "stdout",
     "output_type": "stream",
     "text": [
      "function:'model_fit' took: 18.98 sec\n"
     ]
    }
   ],
   "source": [
    "project.model_fit()"
   ]
  },
  {
   "cell_type": "code",
   "execution_count": 6,
   "metadata": {},
   "outputs": [
    {
     "name": "stdout",
     "output_type": "stream",
     "text": [
      "Mean Absolute Error: Sales    1893.75\n",
      "dtype: float64\n",
      "RMSE 2616.08\n",
      "function:'rmse' took: 0.98 sec\n"
     ]
    }
   ],
   "source": [
    "project.rmse()"
   ]
  },
  {
   "cell_type": "code",
   "execution_count": 7,
   "metadata": {
    "scrolled": true
   },
   "outputs": [
    {
     "name": "stderr",
     "output_type": "stream",
     "text": [
      "/Users/rfdanti/anaconda3/lib/python3.7/site-packages/ipykernel_launcher.py:126: SettingWithCopyWarning: \n",
      "A value is trying to be set on a copy of a slice from a DataFrame.\n",
      "Try using .loc[row_indexer,col_indexer] = value instead\n",
      "\n",
      "See the caveats in the documentation: https://pandas.pydata.org/pandas-docs/stable/user_guide/indexing.html#returning-a-view-versus-a-copy\n",
      "/Users/rfdanti/anaconda3/lib/python3.7/site-packages/ipykernel_launcher.py:127: SettingWithCopyWarning: \n",
      "A value is trying to be set on a copy of a slice from a DataFrame.\n",
      "Try using .loc[row_indexer,col_indexer] = value instead\n",
      "\n",
      "See the caveats in the documentation: https://pandas.pydata.org/pandas-docs/stable/user_guide/indexing.html#returning-a-view-versus-a-copy\n"
     ]
    }
   ],
   "source": [
    "result_733 = project.save_result(733)"
   ]
  },
  {
   "cell_type": "code",
   "execution_count": 8,
   "metadata": {
    "scrolled": true
   },
   "outputs": [
    {
     "data": {
      "text/html": [
       "<div>\n",
       "<style scoped>\n",
       "    .dataframe tbody tr th:only-of-type {\n",
       "        vertical-align: middle;\n",
       "    }\n",
       "\n",
       "    .dataframe tbody tr th {\n",
       "        vertical-align: top;\n",
       "    }\n",
       "\n",
       "    .dataframe thead th {\n",
       "        text-align: right;\n",
       "    }\n",
       "</style>\n",
       "<table border=\"1\" class=\"dataframe\">\n",
       "  <thead>\n",
       "    <tr style=\"text-align: right;\">\n",
       "      <th></th>\n",
       "      <th>Date</th>\n",
       "      <th>Sales</th>\n",
       "      <th>predicted_LR</th>\n",
       "      <th>error_LR</th>\n",
       "    </tr>\n",
       "  </thead>\n",
       "  <tbody>\n",
       "    <tr>\n",
       "      <th>0</th>\n",
       "      <td>2015-06-14</td>\n",
       "      <td>16452</td>\n",
       "      <td>12086.428707</td>\n",
       "      <td>4365.571293</td>\n",
       "    </tr>\n",
       "    <tr>\n",
       "      <th>1</th>\n",
       "      <td>2015-06-15</td>\n",
       "      <td>16710</td>\n",
       "      <td>14760.723335</td>\n",
       "      <td>1949.276665</td>\n",
       "    </tr>\n",
       "    <tr>\n",
       "      <th>2</th>\n",
       "      <td>2015-06-16</td>\n",
       "      <td>16007</td>\n",
       "      <td>13673.058087</td>\n",
       "      <td>2333.941913</td>\n",
       "    </tr>\n",
       "    <tr>\n",
       "      <th>3</th>\n",
       "      <td>2015-06-17</td>\n",
       "      <td>15036</td>\n",
       "      <td>13219.259204</td>\n",
       "      <td>1816.740796</td>\n",
       "    </tr>\n",
       "    <tr>\n",
       "      <th>4</th>\n",
       "      <td>2015-06-18</td>\n",
       "      <td>15269</td>\n",
       "      <td>13262.322016</td>\n",
       "      <td>2006.677984</td>\n",
       "    </tr>\n",
       "  </tbody>\n",
       "</table>\n",
       "</div>"
      ],
      "text/plain": [
       "        Date  Sales  predicted_LR     error_LR\n",
       "0 2015-06-14  16452  12086.428707  4365.571293\n",
       "1 2015-06-15  16710  14760.723335  1949.276665\n",
       "2 2015-06-16  16007  13673.058087  2333.941913\n",
       "3 2015-06-17  15036  13219.259204  1816.740796\n",
       "4 2015-06-18  15269  13262.322016  2006.677984"
      ]
     },
     "execution_count": 8,
     "metadata": {},
     "output_type": "execute_result"
    }
   ],
   "source": [
    "result_733 = result_733.reset_index(drop=False)\n",
    "result_733.head()"
   ]
  },
  {
   "cell_type": "code",
   "execution_count": 9,
   "metadata": {},
   "outputs": [],
   "source": [
    "result_733.to_csv(\"LinearReg_store733_6weeks.csv\", index=False)"
   ]
  },
  {
   "cell_type": "code",
   "execution_count": 10,
   "metadata": {
    "scrolled": true
   },
   "outputs": [
    {
     "name": "stderr",
     "output_type": "stream",
     "text": [
      "/Users/rfdanti/anaconda3/lib/python3.7/site-packages/ipykernel_launcher.py:126: SettingWithCopyWarning: \n",
      "A value is trying to be set on a copy of a slice from a DataFrame.\n",
      "Try using .loc[row_indexer,col_indexer] = value instead\n",
      "\n",
      "See the caveats in the documentation: https://pandas.pydata.org/pandas-docs/stable/user_guide/indexing.html#returning-a-view-versus-a-copy\n",
      "/Users/rfdanti/anaconda3/lib/python3.7/site-packages/ipykernel_launcher.py:127: SettingWithCopyWarning: \n",
      "A value is trying to be set on a copy of a slice from a DataFrame.\n",
      "Try using .loc[row_indexer,col_indexer] = value instead\n",
      "\n",
      "See the caveats in the documentation: https://pandas.pydata.org/pandas-docs/stable/user_guide/indexing.html#returning-a-view-versus-a-copy\n"
     ]
    },
    {
     "data": {
      "text/html": [
       "<div>\n",
       "<style scoped>\n",
       "    .dataframe tbody tr th:only-of-type {\n",
       "        vertical-align: middle;\n",
       "    }\n",
       "\n",
       "    .dataframe tbody tr th {\n",
       "        vertical-align: top;\n",
       "    }\n",
       "\n",
       "    .dataframe thead th {\n",
       "        text-align: right;\n",
       "    }\n",
       "</style>\n",
       "<table border=\"1\" class=\"dataframe\">\n",
       "  <thead>\n",
       "    <tr style=\"text-align: right;\">\n",
       "      <th></th>\n",
       "      <th>Date</th>\n",
       "      <th>Sales</th>\n",
       "      <th>predicted_LR</th>\n",
       "      <th>error_LR</th>\n",
       "    </tr>\n",
       "  </thead>\n",
       "  <tbody>\n",
       "    <tr>\n",
       "      <th>0</th>\n",
       "      <td>2015-06-15</td>\n",
       "      <td>9850</td>\n",
       "      <td>8271.548184</td>\n",
       "      <td>1578.451816</td>\n",
       "    </tr>\n",
       "    <tr>\n",
       "      <th>1</th>\n",
       "      <td>2015-06-16</td>\n",
       "      <td>7449</td>\n",
       "      <td>7183.882936</td>\n",
       "      <td>265.117064</td>\n",
       "    </tr>\n",
       "    <tr>\n",
       "      <th>2</th>\n",
       "      <td>2015-06-17</td>\n",
       "      <td>6829</td>\n",
       "      <td>6730.084053</td>\n",
       "      <td>98.915947</td>\n",
       "    </tr>\n",
       "    <tr>\n",
       "      <th>3</th>\n",
       "      <td>2015-06-18</td>\n",
       "      <td>6628</td>\n",
       "      <td>6773.146864</td>\n",
       "      <td>145.146864</td>\n",
       "    </tr>\n",
       "    <tr>\n",
       "      <th>4</th>\n",
       "      <td>2015-06-19</td>\n",
       "      <td>6716</td>\n",
       "      <td>6870.429171</td>\n",
       "      <td>154.429171</td>\n",
       "    </tr>\n",
       "  </tbody>\n",
       "</table>\n",
       "</div>"
      ],
      "text/plain": [
       "        Date  Sales  predicted_LR     error_LR\n",
       "0 2015-06-15   9850   8271.548184  1578.451816\n",
       "1 2015-06-16   7449   7183.882936   265.117064\n",
       "2 2015-06-17   6829   6730.084053    98.915947\n",
       "3 2015-06-18   6628   6773.146864   145.146864\n",
       "4 2015-06-19   6716   6870.429171   154.429171"
      ]
     },
     "execution_count": 10,
     "metadata": {},
     "output_type": "execute_result"
    }
   ],
   "source": [
    "result_351 = project.save_result(351)\n",
    "result_351 = result_351.reset_index(drop=False)\n",
    "result_351.head()"
   ]
  },
  {
   "cell_type": "code",
   "execution_count": 11,
   "metadata": {},
   "outputs": [],
   "source": [
    "result_351.to_csv(\"LinearReg_store351_6weeks.csv\", index=False)"
   ]
  },
  {
   "cell_type": "code",
   "execution_count": 12,
   "metadata": {
    "scrolled": true
   },
   "outputs": [
    {
     "name": "stderr",
     "output_type": "stream",
     "text": [
      "/Users/rfdanti/anaconda3/lib/python3.7/site-packages/ipykernel_launcher.py:126: SettingWithCopyWarning: \n",
      "A value is trying to be set on a copy of a slice from a DataFrame.\n",
      "Try using .loc[row_indexer,col_indexer] = value instead\n",
      "\n",
      "See the caveats in the documentation: https://pandas.pydata.org/pandas-docs/stable/user_guide/indexing.html#returning-a-view-versus-a-copy\n",
      "/Users/rfdanti/anaconda3/lib/python3.7/site-packages/ipykernel_launcher.py:127: SettingWithCopyWarning: \n",
      "A value is trying to be set on a copy of a slice from a DataFrame.\n",
      "Try using .loc[row_indexer,col_indexer] = value instead\n",
      "\n",
      "See the caveats in the documentation: https://pandas.pydata.org/pandas-docs/stable/user_guide/indexing.html#returning-a-view-versus-a-copy\n"
     ]
    },
    {
     "data": {
      "text/html": [
       "<div>\n",
       "<style scoped>\n",
       "    .dataframe tbody tr th:only-of-type {\n",
       "        vertical-align: middle;\n",
       "    }\n",
       "\n",
       "    .dataframe tbody tr th {\n",
       "        vertical-align: top;\n",
       "    }\n",
       "\n",
       "    .dataframe thead th {\n",
       "        text-align: right;\n",
       "    }\n",
       "</style>\n",
       "<table border=\"1\" class=\"dataframe\">\n",
       "  <thead>\n",
       "    <tr style=\"text-align: right;\">\n",
       "      <th></th>\n",
       "      <th>Date</th>\n",
       "      <th>Sales</th>\n",
       "      <th>predicted_LR</th>\n",
       "      <th>error_LR</th>\n",
       "    </tr>\n",
       "  </thead>\n",
       "  <tbody>\n",
       "    <tr>\n",
       "      <th>0</th>\n",
       "      <td>2015-06-15</td>\n",
       "      <td>19655</td>\n",
       "      <td>9328.608126</td>\n",
       "      <td>10326.391874</td>\n",
       "    </tr>\n",
       "    <tr>\n",
       "      <th>1</th>\n",
       "      <td>2015-06-16</td>\n",
       "      <td>11692</td>\n",
       "      <td>8240.942877</td>\n",
       "      <td>3451.057123</td>\n",
       "    </tr>\n",
       "    <tr>\n",
       "      <th>2</th>\n",
       "      <td>2015-06-17</td>\n",
       "      <td>12551</td>\n",
       "      <td>7787.143994</td>\n",
       "      <td>4763.856006</td>\n",
       "    </tr>\n",
       "    <tr>\n",
       "      <th>3</th>\n",
       "      <td>2015-06-18</td>\n",
       "      <td>10696</td>\n",
       "      <td>7830.206806</td>\n",
       "      <td>2865.793194</td>\n",
       "    </tr>\n",
       "    <tr>\n",
       "      <th>4</th>\n",
       "      <td>2015-06-19</td>\n",
       "      <td>10873</td>\n",
       "      <td>7927.489113</td>\n",
       "      <td>2945.510887</td>\n",
       "    </tr>\n",
       "  </tbody>\n",
       "</table>\n",
       "</div>"
      ],
      "text/plain": [
       "        Date  Sales  predicted_LR      error_LR\n",
       "0 2015-06-15  19655   9328.608126  10326.391874\n",
       "1 2015-06-16  11692   8240.942877   3451.057123\n",
       "2 2015-06-17  12551   7787.143994   4763.856006\n",
       "3 2015-06-18  10696   7830.206806   2865.793194\n",
       "4 2015-06-19  10873   7927.489113   2945.510887"
      ]
     },
     "execution_count": 12,
     "metadata": {},
     "output_type": "execute_result"
    }
   ],
   "source": [
    "result_279 = project.save_result(279)\n",
    "result_279 = result_279.reset_index(drop=False)\n",
    "result_279.head()"
   ]
  },
  {
   "cell_type": "code",
   "execution_count": 13,
   "metadata": {},
   "outputs": [],
   "source": [
    "result_279.to_csv(\"LinearReg_store279_6weeks.csv\", index=False)"
   ]
  },
  {
   "cell_type": "code",
   "execution_count": 11,
   "metadata": {},
   "outputs": [
    {
     "name": "stdout",
     "output_type": "stream",
     "text": [
      "function:'model_fit_random' took: 11.18 sec\n"
     ]
    }
   ],
   "source": [
    "project.model_fit_random()"
   ]
  },
  {
   "cell_type": "code",
   "execution_count": 12,
   "metadata": {
    "scrolled": true
   },
   "outputs": [
    {
     "name": "stdout",
     "output_type": "stream",
     "text": [
      "Mean Absolute Error: Sales    1904.32\n",
      "dtype: float64\n",
      "RMSE 2615.46\n",
      "function:'rmse_random' took: 1.67 sec\n"
     ]
    }
   ],
   "source": [
    "project.rmse_random()"
   ]
  },
  {
   "cell_type": "code",
   "execution_count": null,
   "metadata": {},
   "outputs": [],
   "source": []
  },
  {
   "cell_type": "code",
   "execution_count": 21,
   "metadata": {
    "scrolled": true
   },
   "outputs": [
    {
     "name": "stderr",
     "output_type": "stream",
     "text": [
      "/Users/rfdanti/anaconda3/lib/python3.7/site-packages/ipykernel_launcher.py:126: SettingWithCopyWarning: \n",
      "A value is trying to be set on a copy of a slice from a DataFrame.\n",
      "Try using .loc[row_indexer,col_indexer] = value instead\n",
      "\n",
      "See the caveats in the documentation: https://pandas.pydata.org/pandas-docs/stable/user_guide/indexing.html#returning-a-view-versus-a-copy\n",
      "/Users/rfdanti/anaconda3/lib/python3.7/site-packages/ipykernel_launcher.py:127: SettingWithCopyWarning: \n",
      "A value is trying to be set on a copy of a slice from a DataFrame.\n",
      "Try using .loc[row_indexer,col_indexer] = value instead\n",
      "\n",
      "See the caveats in the documentation: https://pandas.pydata.org/pandas-docs/stable/user_guide/indexing.html#returning-a-view-versus-a-copy\n"
     ]
    },
    {
     "data": {
      "text/html": [
       "<div>\n",
       "<style scoped>\n",
       "    .dataframe tbody tr th:only-of-type {\n",
       "        vertical-align: middle;\n",
       "    }\n",
       "\n",
       "    .dataframe tbody tr th {\n",
       "        vertical-align: top;\n",
       "    }\n",
       "\n",
       "    .dataframe thead th {\n",
       "        text-align: right;\n",
       "    }\n",
       "</style>\n",
       "<table border=\"1\" class=\"dataframe\">\n",
       "  <thead>\n",
       "    <tr style=\"text-align: right;\">\n",
       "      <th></th>\n",
       "      <th>Date</th>\n",
       "      <th>Sales</th>\n",
       "      <th>predicted_LR</th>\n",
       "      <th>error_LR</th>\n",
       "    </tr>\n",
       "  </thead>\n",
       "  <tbody>\n",
       "    <tr>\n",
       "      <th>0</th>\n",
       "      <td>2015-06-15</td>\n",
       "      <td>15677</td>\n",
       "      <td>9950.172986</td>\n",
       "      <td>5726.827014</td>\n",
       "    </tr>\n",
       "    <tr>\n",
       "      <th>1</th>\n",
       "      <td>2015-06-16</td>\n",
       "      <td>11734</td>\n",
       "      <td>8862.507738</td>\n",
       "      <td>2871.492262</td>\n",
       "    </tr>\n",
       "    <tr>\n",
       "      <th>2</th>\n",
       "      <td>2015-06-17</td>\n",
       "      <td>9884</td>\n",
       "      <td>8408.708855</td>\n",
       "      <td>1475.291145</td>\n",
       "    </tr>\n",
       "    <tr>\n",
       "      <th>3</th>\n",
       "      <td>2015-06-18</td>\n",
       "      <td>10350</td>\n",
       "      <td>8451.771667</td>\n",
       "      <td>1898.228333</td>\n",
       "    </tr>\n",
       "    <tr>\n",
       "      <th>4</th>\n",
       "      <td>2015-06-19</td>\n",
       "      <td>9065</td>\n",
       "      <td>8549.053974</td>\n",
       "      <td>515.946026</td>\n",
       "    </tr>\n",
       "  </tbody>\n",
       "</table>\n",
       "</div>"
      ],
      "text/plain": [
       "        Date  Sales  predicted_LR     error_LR\n",
       "0 2015-06-15  15677   9950.172986  5726.827014\n",
       "1 2015-06-16  11734   8862.507738  2871.492262\n",
       "2 2015-06-17   9884   8408.708855  1475.291145\n",
       "3 2015-06-18  10350   8451.771667  1898.228333\n",
       "4 2015-06-19   9065   8549.053974   515.946026"
      ]
     },
     "execution_count": 21,
     "metadata": {},
     "output_type": "execute_result"
    }
   ],
   "source": [
    "result_57 = project.save_result(57)\n",
    "result_57 = result_57.reset_index(drop=False)\n",
    "result_57.head()"
   ]
  },
  {
   "cell_type": "code",
   "execution_count": null,
   "metadata": {},
   "outputs": [],
   "source": []
  },
  {
   "cell_type": "code",
   "execution_count": null,
   "metadata": {},
   "outputs": [],
   "source": [
    "# try making feature selection"
   ]
  },
  {
   "cell_type": "code",
   "execution_count": 19,
   "metadata": {},
   "outputs": [],
   "source": [
    "class Trainer_Store():\n",
    "    \"\"\"Base processor to be used for all preparation\"\"\"\"\"\n",
    "    def __init__(self, input_directory, df_): #input_directory = path to the folder containing df. \n",
    "        self.input_directory = input_directory\n",
    "        self.df = df_\n",
    "                \n",
    "    @timing\n",
    "    def read(self):\n",
    "        \"\"\"Read raw data\"\"\"\n",
    "        self.df = pd.read_csv(self.input_directory + self.df)\n",
    "             \n",
    "    @timing\n",
    "    def preprocessing(self):\n",
    "        \"\"\"processing of the input data\"\"\"\n",
    "            \n",
    "        #type change to category where needed\n",
    "        self.category_columns = [\"Store\", \"StoreType\", \"Assortment\", \"DayOfWeek\", \"PromoInterval\", \"StateHoliday\",\n",
    "                                 \"OpeningType\", \"Month\", \"WeekOfYear\", \"DateOfMonth\", \"AffectedByCompetition\", \n",
    "                                 \"AffectedByPromo2\", \"StateHoliday\", \"SchoolHoliday\", \"Promo\", \"Promo2\"]\n",
    "        \n",
    "        for column in self.category_columns:\n",
    "            self.df[column] = self.df[column].astype('category')\n",
    "            \n",
    "        self.binary_columns = [\"AffectedByCompetition\", \"AffectedByPromo2\", \"SchoolHoliday\", \"Promo\", \"Promo2\"]\n",
    "     \n",
    "        for column in self.binary_columns:\n",
    "            self.df[column] = self.df[column].astype('bool')\n",
    "            \n",
    "        self.df = pd.get_dummies(self.df, columns=[\"StoreType\", \"Assortment\", \"DayOfWeek\", \"PromoInterval\", \n",
    "                                                   \"StateHoliday\", \"OpeningType\", \"Month\", \"WeekOfYear\", \n",
    "                                                   \"DateOfMonth\", \"StateHoliday\"])\n",
    "        \n",
    "        #Scale Interval Variables\n",
    "        #self.normalize = MinMaxScaler(feature_range = (0,1))      \n",
    "        \n",
    "        #extract only data of open stores\n",
    "        self.df_open = self.df[self.df[\"Open\"] == 1]\n",
    "        self.df = self.df_open\n",
    "        \n",
    "        #Re_indexation \n",
    "        self.df = self.df.reset_index(drop='True')\n",
    "        \n",
    "        \"\"\"put the date as index\"\"\"\n",
    "        self.df[\"Date\"] = pd.to_datetime(self.df[\"Date\"].astype(str), format = '%Y/%m/%d')\n",
    "        self.df = self.df.set_index(\"Date\")\n",
    "                     \n",
    "        self.df = self.df.drop([\"CompetitionOpenSinceMonth\", \"CompetitionOpenSinceYear\", \n",
    "                                \"Promo2SinceWeek\", \"Promo2SinceYear\", \"Promo2SinceDate\", \"CompetitionOpenSinceDate\",\n",
    "                               \"Customers\", \"Open\"], axis = 1)\n",
    "\n",
    "    \n",
    "    @timing\n",
    "    def model_fit(self):\n",
    "        self.mae_list = []\n",
    "        self.rmse_list = []\n",
    "        for i in range(len(self.df[\"Store\"].unique())):\n",
    "            # Filter by Store\n",
    "            self.subset = self.df[(self.df[\"Store\"]==(i+1))]\n",
    "            self.subset = self.subset.drop([\"Store\"], axis = 1)\n",
    "\n",
    "            # Split train and test set  \n",
    "            self.train_df = self.subset[\"2013-01-01\": \"2015-06-13\"]\n",
    "            self.test_df = self.subset[\"2015-06-14\":]\n",
    "\n",
    "            self.y_train, self.y_test = self.train_df[['Sales']], self.test_df[[\"Sales\"]]\n",
    "\n",
    "            self.X_train = self.train_df.drop([\"Sales\"], axis = 1)\n",
    "            self.X_test = self.test_df.drop([\"Sales\"], axis = 1)\n",
    "\n",
    "            self.model = LinearRegression()\n",
    "            self.model.fit(self.X_train, self.y_train)\n",
    "                        \n",
    "            self.predicted = self.model.predict(self.X_test)\n",
    "\n",
    "            self.errors = abs(self.predicted - self.y_test)\n",
    "            self.mae = round(np.mean(self.errors), 2)\n",
    "            self.mae_list.append(self.mae)\n",
    "            \n",
    "            self.predicted = self.predicted.reshape(-1, 1)\n",
    "            self.rmse = round(m.sqrt(mean_squared_error(self.predicted, self.y_test)), 2)\n",
    "            self.rmse_list.append(self.rmse)\n",
    "            \n",
    "        self.rmse_list = pd.DataFrame(self.rmse_list, columns=[\"RMSE\"])\n",
    "        self.mae_list = pd.DataFrame(self.mae_list, columns=[\"MAE\"])\n",
    "\n",
    "        self.store = list(range(1,1116))\n",
    "        self.store_series = pd.DataFrame(self.store, columns=[\"Store\"])\n",
    "        self.result = pd.merge(self.store_series, self.rmse_list, how = 'left',left_index = True, right_index = True)\n",
    "        self.result = pd.merge(self.result, self.mae_list, how = 'left',left_index = True, right_index = True)\n",
    " \n",
    "        print('Mean Absolute Error:', self.result.MAE.mean())\n",
    "        print('Median Absolute Error:', self.result.MAE.median())\n",
    "        print('Mean of RMSE:', self.result.RMSE.mean())\n",
    "        print('Median of RMSE:', self.result.RMSE.median())\n",
    "        \n",
    "    def save_summary(self):\n",
    "        return self.result\n",
    "        \n",
    "    \n",
    "    @timing\n",
    "    def model_fit_random(self):\n",
    "        self.X_train_random, self.X_test_random, self.y_train_random, self.y_test_random = train_test_split(self.df.drop([\"Sales\"], axis = 1), self.df[['Sales']], test_size=0.2)\n",
    "        self.model_random = LinearRegression()\n",
    "        self.model_random.fit(self.X_train_random, self.y_train_random)     \n",
    "        \n",
    "    @timing\n",
    "    def validation(self, nb_store):\n",
    "        self.predicted = self.model.predict(self.X_test[self.X_test[\"Store\"] == nb_store])\n",
    "        self.predicted = self.predicted.reshape(-1, 1)\n",
    "        #self.predicted = self.standardize.inverse_transform(self.predicted)\n",
    "        #self.predicted = np.square(self.predicted)\n",
    "        \n",
    "        \n",
    "        plt.figure(figsize=(18, 7), dpi= 80, facecolor='w', edgecolor='k')\n",
    "        plt.plot(self.y_test[self.X_test[\"Store\"] == nb_store].index, self.predicted, color = 'blue',label = 'Predicted values')\n",
    "        plt.plot(self.y_test[self.X_test[\"Store\"] == nb_store], color = 'red', label = 'Real values')\n",
    "        plt.legend()\n",
    "        \n",
    "        self.errors = abs(self.predicted - self.y_test[self.X_test[\"Store\"] == nb_store])\n",
    "        \n",
    "        print('Mean Absolute Error:', round(np.mean(self.errors), 2))\n",
    "        print('RMSE', round(m.sqrt(mean_squared_error(self.predicted, self.y_test[self.X_test[\"Store\"] == nb_store])), 2))\n",
    "        return \n",
    "    \n",
    "    @timing\n",
    "    def rmse(self):\n",
    "        self.predicted = self.model.predict(self.X_test)\n",
    "        self.predicted = self.predicted.reshape(-1, 1)\n",
    "        #self.predicted = self.standardize.inverse_transform(self.predicted)\n",
    "        #self.predicted = np.square(self.predicted)\n",
    "\n",
    "        self.errors = abs(self.predicted - self.y_test)\n",
    "        print('Mean Absolute Error:', round(np.mean(self.errors), 2))\n",
    "        print('RMSE', round(m.sqrt(mean_squared_error(self.predicted, self.y_test)), 2))\n",
    "        \n",
    "    @timing\n",
    "    def rmse_random(self):\n",
    "        self.predicted_ran = self.model_random.predict(self.X_test_random)\n",
    "        self.predicted_ran = self.predicted_ran.reshape(-1, 1)\n",
    "        #self.predicted_ran = self.standardize.inverse_transform(self.predicted_ran)\n",
    "        #self.predicted_ran = np.square(self.predicted_ran)\n",
    "\n",
    "        self.errors_ran = abs(self.predicted_ran - self.y_test_random)\n",
    "        print('Mean Absolute Error:', round(np.mean(self.errors_ran), 2))\n",
    "        print('RMSE', round(m.sqrt(mean_squared_error(self.predicted_ran, self.y_test_random)), 2))\n",
    "        \n",
    "    def save_result(self, nb_store):\n",
    "        self.result = self.y_test[self.X_test[\"Store\"] == nb_store]\n",
    "        self.predicted_store = self.model.predict(self.X_test[self.X_test[\"Store\"] == nb_store])\n",
    "        self.error_store = abs(self.predicted_store.reshape(-1, 1) - self.y_test[self.X_test[\"Store\"] == nb_store])\n",
    "\n",
    "        self.result[\"predicted_LR\"] = self.predicted_store\n",
    "        self.result[\"error_LR\"] = self.error_store\n",
    "        \n",
    "        return self.result\n",
    "        "
   ]
  },
  {
   "cell_type": "code",
   "execution_count": 20,
   "metadata": {},
   "outputs": [
    {
     "name": "stdout",
     "output_type": "stream",
     "text": [
      "function:'read' took: 2.25 sec\n",
      "function:'preprocessing' took: 2.80 sec\n",
      "Mean Absolute Error: nan\n",
      "Median Absolute Error: nan\n",
      "Mean of RMSE: 1.321318851401602e+16\n",
      "Median of RMSE: 874.39\n",
      "function:'model_fit' took: 24.96 sec\n"
     ]
    },
    {
     "data": {
      "text/html": [
       "<div>\n",
       "<style scoped>\n",
       "    .dataframe tbody tr th:only-of-type {\n",
       "        vertical-align: middle;\n",
       "    }\n",
       "\n",
       "    .dataframe tbody tr th {\n",
       "        vertical-align: top;\n",
       "    }\n",
       "\n",
       "    .dataframe thead th {\n",
       "        text-align: right;\n",
       "    }\n",
       "</style>\n",
       "<table border=\"1\" class=\"dataframe\">\n",
       "  <thead>\n",
       "    <tr style=\"text-align: right;\">\n",
       "      <th></th>\n",
       "      <th>index</th>\n",
       "      <th>Store</th>\n",
       "      <th>RMSE</th>\n",
       "      <th>MAE</th>\n",
       "    </tr>\n",
       "  </thead>\n",
       "  <tbody>\n",
       "    <tr>\n",
       "      <th>0</th>\n",
       "      <td>0</td>\n",
       "      <td>1</td>\n",
       "      <td>424.28</td>\n",
       "      <td>NaN</td>\n",
       "    </tr>\n",
       "    <tr>\n",
       "      <th>1</th>\n",
       "      <td>1</td>\n",
       "      <td>2</td>\n",
       "      <td>695.28</td>\n",
       "      <td>NaN</td>\n",
       "    </tr>\n",
       "    <tr>\n",
       "      <th>2</th>\n",
       "      <td>2</td>\n",
       "      <td>3</td>\n",
       "      <td>1091.87</td>\n",
       "      <td>NaN</td>\n",
       "    </tr>\n",
       "    <tr>\n",
       "      <th>3</th>\n",
       "      <td>3</td>\n",
       "      <td>4</td>\n",
       "      <td>1390.49</td>\n",
       "      <td>NaN</td>\n",
       "    </tr>\n",
       "    <tr>\n",
       "      <th>4</th>\n",
       "      <td>4</td>\n",
       "      <td>5</td>\n",
       "      <td>746.53</td>\n",
       "      <td>NaN</td>\n",
       "    </tr>\n",
       "  </tbody>\n",
       "</table>\n",
       "</div>"
      ],
      "text/plain": [
       "   index  Store     RMSE  MAE\n",
       "0      0      1   424.28  NaN\n",
       "1      1      2   695.28  NaN\n",
       "2      2      3  1091.87  NaN\n",
       "3      3      4  1390.49  NaN\n",
       "4      4      5   746.53  NaN"
      ]
     },
     "execution_count": 20,
     "metadata": {},
     "output_type": "execute_result"
    }
   ],
   "source": [
    "new = Trainer_Store(\"/Users/rfdanti/Documents/UoM/2_data_analytics/coursework/CODE/\", \"full_trainset_v2.csv\")\n",
    "new.read()\n",
    "new.preprocessing()\n",
    "new.model_fit()\n",
    "\n",
    "result = new.save_summary()\n",
    "result = result.reset_index(drop=False)\n",
    "result.head()"
   ]
  },
  {
   "cell_type": "code",
   "execution_count": 18,
   "metadata": {},
   "outputs": [],
   "source": [
    "result.to_csv(\"LinearReg_summary-result_6weeks.csv\", index=False)"
   ]
  },
  {
   "cell_type": "code",
   "execution_count": null,
   "metadata": {},
   "outputs": [],
   "source": []
  }
 ],
 "metadata": {
  "kernelspec": {
   "display_name": "Python 3",
   "language": "python",
   "name": "python3"
  },
  "language_info": {
   "codemirror_mode": {
    "name": "ipython",
    "version": 3
   },
   "file_extension": ".py",
   "mimetype": "text/x-python",
   "name": "python",
   "nbconvert_exporter": "python",
   "pygments_lexer": "ipython3",
   "version": "3.7.7"
  }
 },
 "nbformat": 4,
 "nbformat_minor": 2
}
