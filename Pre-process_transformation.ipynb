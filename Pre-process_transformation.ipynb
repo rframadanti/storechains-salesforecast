{
 "cells": [
  {
   "cell_type": "code",
   "execution_count": 1,
   "metadata": {},
   "outputs": [
    {
     "name": "stderr",
     "output_type": "stream",
     "text": [
      "\n",
      "Bad key \"“backend\" on line 1 in\n",
      "/Users/rfdanti/.matplotlib/matplotlibrc.\n",
      "You probably need to get an updated matplotlibrc file from\n",
      "https://github.com/matplotlib/matplotlib/blob/v3.2.1/matplotlibrc.template\n",
      "or from the matplotlib source distribution\n"
     ]
    }
   ],
   "source": [
    "import pandas as pd\n",
    "import math as m\n",
    "import numpy as np\n",
    "import matplotlib.pyplot as plt\n",
    "import seaborn as sns\n",
    "from scipy import stats\n",
    "\n",
    "from sklearn.preprocessing import MinMaxScaler\n",
    "from sklearn.preprocessing import RobustScaler"
   ]
  },
  {
   "cell_type": "code",
   "execution_count": 2,
   "metadata": {},
   "outputs": [],
   "source": [
    "trainset = pd.read_csv(\"train_merged0.3.csv\")\n",
    "testset = pd.read_csv(\"test_merged0.3.csv\")"
   ]
  },
  {
   "cell_type": "code",
   "execution_count": 2,
   "metadata": {},
   "outputs": [],
   "source": [
    "trainset = pd.read_csv(\"train_merged_complete.csv\")"
   ]
  },
  {
   "cell_type": "code",
   "execution_count": 3,
   "metadata": {},
   "outputs": [
    {
     "data": {
      "text/html": [
       "<div>\n",
       "<style scoped>\n",
       "    .dataframe tbody tr th:only-of-type {\n",
       "        vertical-align: middle;\n",
       "    }\n",
       "\n",
       "    .dataframe tbody tr th {\n",
       "        vertical-align: top;\n",
       "    }\n",
       "\n",
       "    .dataframe thead th {\n",
       "        text-align: right;\n",
       "    }\n",
       "</style>\n",
       "<table border=\"1\" class=\"dataframe\">\n",
       "  <thead>\n",
       "    <tr style=\"text-align: right;\">\n",
       "      <th></th>\n",
       "      <th>Store</th>\n",
       "      <th>StoreType</th>\n",
       "      <th>Assortment</th>\n",
       "      <th>CompetitionDistance</th>\n",
       "      <th>CompetitionOpenSinceMonth</th>\n",
       "      <th>CompetitionOpenSinceYear</th>\n",
       "      <th>Promo2</th>\n",
       "      <th>Promo2SinceWeek</th>\n",
       "      <th>Promo2SinceYear</th>\n",
       "      <th>PromoInterval</th>\n",
       "      <th>...</th>\n",
       "      <th>competition_age_days</th>\n",
       "      <th>affectedbycompetition</th>\n",
       "      <th>affectedbypromo2</th>\n",
       "      <th>OpeningType</th>\n",
       "      <th>month</th>\n",
       "      <th>year</th>\n",
       "      <th>dateofmonth</th>\n",
       "      <th>sta_category</th>\n",
       "      <th>pred_sales</th>\n",
       "      <th>pred_cust</th>\n",
       "    </tr>\n",
       "  </thead>\n",
       "  <tbody>\n",
       "    <tr>\n",
       "      <th>0</th>\n",
       "      <td>1</td>\n",
       "      <td>2</td>\n",
       "      <td>0</td>\n",
       "      <td>1270</td>\n",
       "      <td>9</td>\n",
       "      <td>2008</td>\n",
       "      <td>0</td>\n",
       "      <td>1</td>\n",
       "      <td>2016</td>\n",
       "      <td>0</td>\n",
       "      <td>...</td>\n",
       "      <td>2240</td>\n",
       "      <td>1</td>\n",
       "      <td>0</td>\n",
       "      <td>0</td>\n",
       "      <td>10</td>\n",
       "      <td>2014</td>\n",
       "      <td>20</td>\n",
       "      <td>6</td>\n",
       "      <td>4968</td>\n",
       "      <td>576</td>\n",
       "    </tr>\n",
       "    <tr>\n",
       "      <th>1</th>\n",
       "      <td>1</td>\n",
       "      <td>2</td>\n",
       "      <td>0</td>\n",
       "      <td>1270</td>\n",
       "      <td>9</td>\n",
       "      <td>2008</td>\n",
       "      <td>0</td>\n",
       "      <td>1</td>\n",
       "      <td>2016</td>\n",
       "      <td>0</td>\n",
       "      <td>...</td>\n",
       "      <td>1778</td>\n",
       "      <td>1</td>\n",
       "      <td>0</td>\n",
       "      <td>0</td>\n",
       "      <td>7</td>\n",
       "      <td>2013</td>\n",
       "      <td>15</td>\n",
       "      <td>6</td>\n",
       "      <td>6137</td>\n",
       "      <td>641</td>\n",
       "    </tr>\n",
       "    <tr>\n",
       "      <th>2</th>\n",
       "      <td>1</td>\n",
       "      <td>2</td>\n",
       "      <td>0</td>\n",
       "      <td>1270</td>\n",
       "      <td>9</td>\n",
       "      <td>2008</td>\n",
       "      <td>0</td>\n",
       "      <td>1</td>\n",
       "      <td>2016</td>\n",
       "      <td>0</td>\n",
       "      <td>...</td>\n",
       "      <td>1603</td>\n",
       "      <td>1</td>\n",
       "      <td>0</td>\n",
       "      <td>0</td>\n",
       "      <td>1</td>\n",
       "      <td>2013</td>\n",
       "      <td>21</td>\n",
       "      <td>6</td>\n",
       "      <td>5878</td>\n",
       "      <td>655</td>\n",
       "    </tr>\n",
       "    <tr>\n",
       "      <th>3</th>\n",
       "      <td>1</td>\n",
       "      <td>2</td>\n",
       "      <td>0</td>\n",
       "      <td>1270</td>\n",
       "      <td>9</td>\n",
       "      <td>2008</td>\n",
       "      <td>0</td>\n",
       "      <td>1</td>\n",
       "      <td>2016</td>\n",
       "      <td>0</td>\n",
       "      <td>...</td>\n",
       "      <td>2387</td>\n",
       "      <td>1</td>\n",
       "      <td>0</td>\n",
       "      <td>0</td>\n",
       "      <td>3</td>\n",
       "      <td>2015</td>\n",
       "      <td>16</td>\n",
       "      <td>6</td>\n",
       "      <td>5428</td>\n",
       "      <td>588</td>\n",
       "    </tr>\n",
       "    <tr>\n",
       "      <th>4</th>\n",
       "      <td>1</td>\n",
       "      <td>2</td>\n",
       "      <td>0</td>\n",
       "      <td>1270</td>\n",
       "      <td>9</td>\n",
       "      <td>2008</td>\n",
       "      <td>0</td>\n",
       "      <td>1</td>\n",
       "      <td>2016</td>\n",
       "      <td>0</td>\n",
       "      <td>...</td>\n",
       "      <td>2072</td>\n",
       "      <td>1</td>\n",
       "      <td>0</td>\n",
       "      <td>0</td>\n",
       "      <td>5</td>\n",
       "      <td>2014</td>\n",
       "      <td>5</td>\n",
       "      <td>6</td>\n",
       "      <td>5534</td>\n",
       "      <td>619</td>\n",
       "    </tr>\n",
       "  </tbody>\n",
       "</table>\n",
       "<p>5 rows × 30 columns</p>\n",
       "</div>"
      ],
      "text/plain": [
       "   Store  StoreType  Assortment  CompetitionDistance  \\\n",
       "0      1          2           0                 1270   \n",
       "1      1          2           0                 1270   \n",
       "2      1          2           0                 1270   \n",
       "3      1          2           0                 1270   \n",
       "4      1          2           0                 1270   \n",
       "\n",
       "   CompetitionOpenSinceMonth  CompetitionOpenSinceYear  Promo2  \\\n",
       "0                          9                      2008       0   \n",
       "1                          9                      2008       0   \n",
       "2                          9                      2008       0   \n",
       "3                          9                      2008       0   \n",
       "4                          9                      2008       0   \n",
       "\n",
       "   Promo2SinceWeek  Promo2SinceYear  PromoInterval  ... competition_age_days  \\\n",
       "0                1             2016              0  ...                 2240   \n",
       "1                1             2016              0  ...                 1778   \n",
       "2                1             2016              0  ...                 1603   \n",
       "3                1             2016              0  ...                 2387   \n",
       "4                1             2016              0  ...                 2072   \n",
       "\n",
       "  affectedbycompetition affectedbypromo2  OpeningType  month  year  \\\n",
       "0                     1                0            0     10  2014   \n",
       "1                     1                0            0      7  2013   \n",
       "2                     1                0            0      1  2013   \n",
       "3                     1                0            0      3  2015   \n",
       "4                     1                0            0      5  2014   \n",
       "\n",
       "   dateofmonth  sta_category  pred_sales  pred_cust  \n",
       "0           20             6        4968        576  \n",
       "1           15             6        6137        641  \n",
       "2           21             6        5878        655  \n",
       "3           16             6        5428        588  \n",
       "4            5             6        5534        619  \n",
       "\n",
       "[5 rows x 30 columns]"
      ]
     },
     "execution_count": 3,
     "metadata": {},
     "output_type": "execute_result"
    }
   ],
   "source": [
    "trainset.head()"
   ]
  },
  {
   "cell_type": "code",
   "execution_count": 4,
   "metadata": {},
   "outputs": [],
   "source": [
    "#drop useless variables\n",
    "trainset = trainset.drop([\"CompetitionOpenSinceMonth\", \"CompetitionOpenSinceYear\",  \n",
    "                              \"CompetitionOpenSinceDate\", \"Promo2SinceYear\", \"Promo2SinceWeek\", \n",
    "                              \"Promo2SinceDate\", \"sta_category\"], axis = 1)"
   ]
  },
  {
   "cell_type": "code",
   "execution_count": 6,
   "metadata": {},
   "outputs": [],
   "source": [
    "#set categorical type\n",
    "category_columns = [\"Store\", \"StoreType\", \"Assortment\", \"DayOfWeek\", \"PromoInterval\", \"OpeningType\", \"month\", \n",
    "                    \"StateHoliday\", \"year\", \"dateofmonth\"]\n",
    "     \n",
    "for column in category_columns:\n",
    "    trainset[column] = trainset[column].astype('category')"
   ]
  },
  {
   "cell_type": "code",
   "execution_count": 7,
   "metadata": {},
   "outputs": [],
   "source": [
    "#set binary type\n",
    "binary_columns = [\"affectedbycompetition\", \"affectedbypromo2\", \n",
    "                  \"SchoolHoliday\", \"Promo\", \"Promo2\", \"Open\"]\n",
    "     \n",
    "for column in binary_columns:\n",
    "    trainset[column] = trainset[column].astype('bool')"
   ]
  },
  {
   "cell_type": "code",
   "execution_count": 8,
   "metadata": {},
   "outputs": [],
   "source": [
    "#convert date\n",
    "trainset['Date']= pd.to_datetime(trainset['Date']) "
   ]
  },
  {
   "cell_type": "code",
   "execution_count": 9,
   "metadata": {},
   "outputs": [
    {
     "data": {
      "text/plain": [
       "1050330"
      ]
     },
     "execution_count": 9,
     "metadata": {},
     "output_type": "execute_result"
    }
   ],
   "source": [
    "len(trainset)"
   ]
  },
  {
   "cell_type": "code",
   "execution_count": 11,
   "metadata": {},
   "outputs": [],
   "source": [
    "#drop prediction\n",
    "trainset = trainset.drop([\"pred_sales\", \"pred_cust\"], axis = 1)"
   ]
  },
  {
   "cell_type": "code",
   "execution_count": 12,
   "metadata": {
    "scrolled": true
   },
   "outputs": [
    {
     "name": "stdout",
     "output_type": "stream",
     "text": [
      "<class 'pandas.core.frame.DataFrame'>\n",
      "RangeIndex: 1050330 entries, 0 to 1050329\n",
      "Data columns (total 21 columns):\n",
      "Store                    1050330 non-null category\n",
      "StoreType                1050330 non-null category\n",
      "Assortment               1050330 non-null category\n",
      "CompetitionDistance      1050330 non-null int64\n",
      "Promo2                   1050330 non-null bool\n",
      "PromoInterval            1050330 non-null category\n",
      "Date                     1050330 non-null datetime64[ns]\n",
      "Customers                1050330 non-null int64\n",
      "DayOfWeek                1050330 non-null category\n",
      "Open                     1050330 non-null bool\n",
      "Promo                    1050330 non-null bool\n",
      "Sales                    1050330 non-null int64\n",
      "SchoolHoliday            1050330 non-null bool\n",
      "StateHoliday             1050330 non-null category\n",
      "competition_age_days     1050330 non-null int64\n",
      "affectedbycompetition    1050330 non-null bool\n",
      "affectedbypromo2         1050330 non-null bool\n",
      "OpeningType              1050330 non-null category\n",
      "month                    1050330 non-null category\n",
      "year                     1050330 non-null category\n",
      "dateofmonth              1050330 non-null category\n",
      "dtypes: bool(6), category(10), datetime64[ns](1), int64(4)\n",
      "memory usage: 57.1 MB\n"
     ]
    }
   ],
   "source": [
    "trainset.info()"
   ]
  },
  {
   "cell_type": "code",
   "execution_count": 13,
   "metadata": {
    "scrolled": true
   },
   "outputs": [
    {
     "data": {
      "text/html": [
       "<div>\n",
       "<style scoped>\n",
       "    .dataframe tbody tr th:only-of-type {\n",
       "        vertical-align: middle;\n",
       "    }\n",
       "\n",
       "    .dataframe tbody tr th {\n",
       "        vertical-align: top;\n",
       "    }\n",
       "\n",
       "    .dataframe thead th {\n",
       "        text-align: right;\n",
       "    }\n",
       "</style>\n",
       "<table border=\"1\" class=\"dataframe\">\n",
       "  <thead>\n",
       "    <tr style=\"text-align: right;\">\n",
       "      <th></th>\n",
       "      <th>Store</th>\n",
       "      <th>StoreType</th>\n",
       "      <th>Assortment</th>\n",
       "      <th>CompetitionDistance</th>\n",
       "      <th>Promo2</th>\n",
       "      <th>PromoInterval</th>\n",
       "      <th>Date</th>\n",
       "      <th>Customers</th>\n",
       "      <th>DayOfWeek</th>\n",
       "      <th>Open</th>\n",
       "      <th>...</th>\n",
       "      <th>Sales</th>\n",
       "      <th>SchoolHoliday</th>\n",
       "      <th>StateHoliday</th>\n",
       "      <th>competition_age_days</th>\n",
       "      <th>affectedbycompetition</th>\n",
       "      <th>affectedbypromo2</th>\n",
       "      <th>OpeningType</th>\n",
       "      <th>month</th>\n",
       "      <th>year</th>\n",
       "      <th>dateofmonth</th>\n",
       "    </tr>\n",
       "  </thead>\n",
       "  <tbody>\n",
       "    <tr>\n",
       "      <th>0</th>\n",
       "      <td>1</td>\n",
       "      <td>2</td>\n",
       "      <td>0</td>\n",
       "      <td>1270</td>\n",
       "      <td>False</td>\n",
       "      <td>0</td>\n",
       "      <td>2014-10-20</td>\n",
       "      <td>560</td>\n",
       "      <td>1</td>\n",
       "      <td>True</td>\n",
       "      <td>...</td>\n",
       "      <td>4652</td>\n",
       "      <td>True</td>\n",
       "      <td>0</td>\n",
       "      <td>2240</td>\n",
       "      <td>True</td>\n",
       "      <td>False</td>\n",
       "      <td>0</td>\n",
       "      <td>10</td>\n",
       "      <td>2014</td>\n",
       "      <td>20</td>\n",
       "    </tr>\n",
       "    <tr>\n",
       "      <th>1</th>\n",
       "      <td>1</td>\n",
       "      <td>2</td>\n",
       "      <td>0</td>\n",
       "      <td>1270</td>\n",
       "      <td>False</td>\n",
       "      <td>0</td>\n",
       "      <td>2013-07-15</td>\n",
       "      <td>657</td>\n",
       "      <td>1</td>\n",
       "      <td>True</td>\n",
       "      <td>...</td>\n",
       "      <td>6377</td>\n",
       "      <td>True</td>\n",
       "      <td>0</td>\n",
       "      <td>1778</td>\n",
       "      <td>True</td>\n",
       "      <td>False</td>\n",
       "      <td>0</td>\n",
       "      <td>7</td>\n",
       "      <td>2013</td>\n",
       "      <td>15</td>\n",
       "    </tr>\n",
       "    <tr>\n",
       "      <th>2</th>\n",
       "      <td>1</td>\n",
       "      <td>2</td>\n",
       "      <td>0</td>\n",
       "      <td>1270</td>\n",
       "      <td>False</td>\n",
       "      <td>0</td>\n",
       "      <td>2013-01-21</td>\n",
       "      <td>607</td>\n",
       "      <td>1</td>\n",
       "      <td>True</td>\n",
       "      <td>...</td>\n",
       "      <td>5394</td>\n",
       "      <td>False</td>\n",
       "      <td>0</td>\n",
       "      <td>1603</td>\n",
       "      <td>True</td>\n",
       "      <td>False</td>\n",
       "      <td>0</td>\n",
       "      <td>1</td>\n",
       "      <td>2013</td>\n",
       "      <td>21</td>\n",
       "    </tr>\n",
       "    <tr>\n",
       "      <th>3</th>\n",
       "      <td>1</td>\n",
       "      <td>2</td>\n",
       "      <td>0</td>\n",
       "      <td>1270</td>\n",
       "      <td>False</td>\n",
       "      <td>0</td>\n",
       "      <td>2015-03-16</td>\n",
       "      <td>605</td>\n",
       "      <td>1</td>\n",
       "      <td>True</td>\n",
       "      <td>...</td>\n",
       "      <td>5695</td>\n",
       "      <td>False</td>\n",
       "      <td>0</td>\n",
       "      <td>2387</td>\n",
       "      <td>True</td>\n",
       "      <td>False</td>\n",
       "      <td>0</td>\n",
       "      <td>3</td>\n",
       "      <td>2015</td>\n",
       "      <td>16</td>\n",
       "    </tr>\n",
       "    <tr>\n",
       "      <th>4</th>\n",
       "      <td>1</td>\n",
       "      <td>2</td>\n",
       "      <td>0</td>\n",
       "      <td>1270</td>\n",
       "      <td>False</td>\n",
       "      <td>0</td>\n",
       "      <td>2014-05-05</td>\n",
       "      <td>615</td>\n",
       "      <td>1</td>\n",
       "      <td>True</td>\n",
       "      <td>...</td>\n",
       "      <td>5325</td>\n",
       "      <td>False</td>\n",
       "      <td>0</td>\n",
       "      <td>2072</td>\n",
       "      <td>True</td>\n",
       "      <td>False</td>\n",
       "      <td>0</td>\n",
       "      <td>5</td>\n",
       "      <td>2014</td>\n",
       "      <td>5</td>\n",
       "    </tr>\n",
       "  </tbody>\n",
       "</table>\n",
       "<p>5 rows × 21 columns</p>\n",
       "</div>"
      ],
      "text/plain": [
       "  Store StoreType Assortment  CompetitionDistance  Promo2 PromoInterval  \\\n",
       "0     1         2          0                 1270   False             0   \n",
       "1     1         2          0                 1270   False             0   \n",
       "2     1         2          0                 1270   False             0   \n",
       "3     1         2          0                 1270   False             0   \n",
       "4     1         2          0                 1270   False             0   \n",
       "\n",
       "        Date  Customers DayOfWeek  Open  ...  Sales  SchoolHoliday  \\\n",
       "0 2014-10-20        560         1  True  ...   4652           True   \n",
       "1 2013-07-15        657         1  True  ...   6377           True   \n",
       "2 2013-01-21        607         1  True  ...   5394          False   \n",
       "3 2015-03-16        605         1  True  ...   5695          False   \n",
       "4 2014-05-05        615         1  True  ...   5325          False   \n",
       "\n",
       "   StateHoliday competition_age_days  affectedbycompetition  affectedbypromo2  \\\n",
       "0             0                 2240                   True             False   \n",
       "1             0                 1778                   True             False   \n",
       "2             0                 1603                   True             False   \n",
       "3             0                 2387                   True             False   \n",
       "4             0                 2072                   True             False   \n",
       "\n",
       "   OpeningType month  year dateofmonth  \n",
       "0            0    10  2014          20  \n",
       "1            0     7  2013          15  \n",
       "2            0     1  2013          21  \n",
       "3            0     3  2015          16  \n",
       "4            0     5  2014           5  \n",
       "\n",
       "[5 rows x 21 columns]"
      ]
     },
     "execution_count": 13,
     "metadata": {},
     "output_type": "execute_result"
    }
   ],
   "source": [
    "trainset.head()"
   ]
  },
  {
   "cell_type": "code",
   "execution_count": 15,
   "metadata": {},
   "outputs": [],
   "source": [
    "#Checking Interval Variables\n",
    "#Good colour: light blue \"#55DDE0\", dark blue \"#33658A\", dark grey \"#2F4858\", tangerine \"#F6AE2D\", orange \"#F26419\"\n",
    "# Make the plot\n",
    "#sns.set(color_codes=True)\n",
    "def plot_hist(data, title):\n",
    "    plt.hist(data, color='#55DDE0', edgecolor='white', label=title)\n",
    "    plt.title('Distribution')\n",
    "    plt.ylabel('Frequency', fontweight='bold')\n",
    "    plt.xlabel(title, fontweight='bold')\n",
    "    plt.legend(loc='upper right')\n",
    "    plt.show()"
   ]
  },
  {
   "cell_type": "code",
   "execution_count": 16,
   "metadata": {},
   "outputs": [
    {
     "data": {
      "image/png": "[encoded data removed]",
      "text/plain": [
       "<Figure size 432x288 with 1 Axes>"
      ]
     },
     "metadata": {
      "needs_background": "light"
     },
     "output_type": "display_data"
    }
   ],
   "source": [
    "plot_hist(trainset['CompetitionDistance'], 'CompetitionDistance')"
   ]
  },
  {
   "cell_type": "code",
   "execution_count": 15,
   "metadata": {
    "scrolled": false
   },
   "outputs": [
    {
     "data": {
      "image/png": "[encoded data removed]",
      "text/plain": [
       "<Figure size 432x288 with 1 Axes>"
      ]
     },
     "metadata": {
      "needs_background": "light"
     },
     "output_type": "display_data"
    }
   ],
   "source": [
    "plot_hist(trainset['competition_age_days'], 'Competition Age Days')"
   ]
  },
  {
   "cell_type": "code",
   "execution_count": 18,
   "metadata": {
    "scrolled": false
   },
   "outputs": [
    {
     "data": {
      "text/plain": [
       "count    1.017209e+06\n",
       "mean     1.717215e+03\n",
       "std      1.812286e+03\n",
       "min      0.000000e+00\n",
       "25%      8.890000e+02\n",
       "50%      1.402000e+03\n",
       "75%      2.234000e+03\n",
       "max      4.221400e+04\n",
       "Name: competition_age_days, dtype: float64"
      ]
     },
     "execution_count": 18,
     "metadata": {},
     "output_type": "execute_result"
    }
   ],
   "source": [
    "trainset['competition_age_days'].describe()"
   ]
  },
  {
   "cell_type": "code",
   "execution_count": 25,
   "metadata": {},
   "outputs": [
    {
     "data": {
      "text/plain": [
       "{'whiskers': [<matplotlib.lines.Line2D at 0x1a3d992fd0>,\n",
       "  <matplotlib.lines.Line2D at 0x1a3d9a03c8>],\n",
       " 'caps': [<matplotlib.lines.Line2D at 0x1a3d9a0710>,\n",
       "  <matplotlib.lines.Line2D at 0x1a3d9a0a58>],\n",
       " 'boxes': [<matplotlib.lines.Line2D at 0x1a3d992be0>],\n",
       " 'medians': [<matplotlib.lines.Line2D at 0x1a3d9a0da0>],\n",
       " 'fliers': [<matplotlib.lines.Line2D at 0x1a3d9a0e80>],\n",
       " 'means': []}"
      ]
     },
     "execution_count": 25,
     "metadata": {},
     "output_type": "execute_result"
    },
    {
     "data": {
      "image/png": "[encoded data removed]",
      "text/plain": [
       "<Figure size 432x288 with 1 Axes>"
      ]
     },
     "metadata": {
      "needs_background": "light"
     },
     "output_type": "display_data"
    }
   ],
   "source": [
    "plt.boxplot(trainset['competition_age_days'])"
   ]
  },
  {
   "cell_type": "code",
   "execution_count": 28,
   "metadata": {},
   "outputs": [
    {
     "data": {
      "image/png": "[encoded data removed]",
      "text/plain": [
       "<Figure size 432x288 with 1 Axes>"
      ]
     },
     "metadata": {
      "needs_background": "light"
     },
     "output_type": "display_data"
    }
   ],
   "source": [
    "zoom = trainset[trainset['competition_age_days']>5000]\n",
    "plot_hist(zoom['competition_age_days'], 'Competition Age Days > 5k')"
   ]
  },
  {
   "cell_type": "code",
   "execution_count": 89,
   "metadata": {},
   "outputs": [],
   "source": [
    "# Interval data are rightly skewed and has some outliers, \n",
    "# thus using square-root or log-transformation or scaling with RobustScaler is a good idea"
   ]
  },
  {
   "cell_type": "code",
   "execution_count": 17,
   "metadata": {
    "scrolled": true
   },
   "outputs": [
    {
     "name": "stderr",
     "output_type": "stream",
     "text": [
      "/Users/rfdanti/anaconda3/lib/python3.7/site-packages/ipykernel_launcher.py:5: SettingWithCopyWarning: \n",
      "A value is trying to be set on a copy of a slice from a DataFrame\n",
      "\n",
      "See the caveats in the documentation: http://pandas.pydata.org/pandas-docs/stable/indexing.html#indexing-view-versus-copy\n",
      "  \"\"\"\n"
     ]
    }
   ],
   "source": [
    "# Recover the original Competition Distance Data\n",
    "store = pd.read_csv(\"DA1920_store.csv\")\n",
    "store = store.filter([\"Store\", \"CompetitionDistance\"])\n",
    "#restore original distance with missing values replaced by mean\n",
    "store[\"CompetitionDistance\"][store[\"CompetitionDistance\"].isna()==True] = store[\"CompetitionDistance\"].fillna(store[\"CompetitionDistance\"]).mean()"
   ]
  },
  {
   "cell_type": "code",
   "execution_count": 19,
   "metadata": {},
   "outputs": [],
   "source": [
    "#merge dataset\n",
    "trainset = pd.merge(trainset,store,on='Store', how='inner')\n"
   ]
  },
  {
   "cell_type": "code",
   "execution_count": 20,
   "metadata": {
    "scrolled": true
   },
   "outputs": [
    {
     "data": {
      "text/html": [
       "<div>\n",
       "<style scoped>\n",
       "    .dataframe tbody tr th:only-of-type {\n",
       "        vertical-align: middle;\n",
       "    }\n",
       "\n",
       "    .dataframe tbody tr th {\n",
       "        vertical-align: top;\n",
       "    }\n",
       "\n",
       "    .dataframe thead th {\n",
       "        text-align: right;\n",
       "    }\n",
       "</style>\n",
       "<table border=\"1\" class=\"dataframe\">\n",
       "  <thead>\n",
       "    <tr style=\"text-align: right;\">\n",
       "      <th></th>\n",
       "      <th>Store</th>\n",
       "      <th>StoreType</th>\n",
       "      <th>Assortment</th>\n",
       "      <th>CompetitionDistance_x</th>\n",
       "      <th>Promo2</th>\n",
       "      <th>PromoInterval</th>\n",
       "      <th>Date</th>\n",
       "      <th>Customers</th>\n",
       "      <th>DayOfWeek</th>\n",
       "      <th>Open</th>\n",
       "      <th>...</th>\n",
       "      <th>StateHoliday</th>\n",
       "      <th>competition_age_days</th>\n",
       "      <th>affectedbycompetition</th>\n",
       "      <th>affectedbypromo2</th>\n",
       "      <th>OpeningType</th>\n",
       "      <th>month</th>\n",
       "      <th>year</th>\n",
       "      <th>dateofmonth</th>\n",
       "      <th>CompetitionDistance_y</th>\n",
       "      <th>CompetitionDistance</th>\n",
       "    </tr>\n",
       "  </thead>\n",
       "  <tbody>\n",
       "    <tr>\n",
       "      <th>0</th>\n",
       "      <td>1</td>\n",
       "      <td>2</td>\n",
       "      <td>0</td>\n",
       "      <td>1270</td>\n",
       "      <td>False</td>\n",
       "      <td>0</td>\n",
       "      <td>2014-10-20</td>\n",
       "      <td>560</td>\n",
       "      <td>1</td>\n",
       "      <td>True</td>\n",
       "      <td>...</td>\n",
       "      <td>0</td>\n",
       "      <td>2240</td>\n",
       "      <td>True</td>\n",
       "      <td>False</td>\n",
       "      <td>0</td>\n",
       "      <td>10</td>\n",
       "      <td>2014</td>\n",
       "      <td>20</td>\n",
       "      <td>1270.0</td>\n",
       "      <td>1270.0</td>\n",
       "    </tr>\n",
       "    <tr>\n",
       "      <th>1</th>\n",
       "      <td>1</td>\n",
       "      <td>2</td>\n",
       "      <td>0</td>\n",
       "      <td>1270</td>\n",
       "      <td>False</td>\n",
       "      <td>0</td>\n",
       "      <td>2013-07-15</td>\n",
       "      <td>657</td>\n",
       "      <td>1</td>\n",
       "      <td>True</td>\n",
       "      <td>...</td>\n",
       "      <td>0</td>\n",
       "      <td>1778</td>\n",
       "      <td>True</td>\n",
       "      <td>False</td>\n",
       "      <td>0</td>\n",
       "      <td>7</td>\n",
       "      <td>2013</td>\n",
       "      <td>15</td>\n",
       "      <td>1270.0</td>\n",
       "      <td>1270.0</td>\n",
       "    </tr>\n",
       "    <tr>\n",
       "      <th>2</th>\n",
       "      <td>1</td>\n",
       "      <td>2</td>\n",
       "      <td>0</td>\n",
       "      <td>1270</td>\n",
       "      <td>False</td>\n",
       "      <td>0</td>\n",
       "      <td>2013-01-21</td>\n",
       "      <td>607</td>\n",
       "      <td>1</td>\n",
       "      <td>True</td>\n",
       "      <td>...</td>\n",
       "      <td>0</td>\n",
       "      <td>1603</td>\n",
       "      <td>True</td>\n",
       "      <td>False</td>\n",
       "      <td>0</td>\n",
       "      <td>1</td>\n",
       "      <td>2013</td>\n",
       "      <td>21</td>\n",
       "      <td>1270.0</td>\n",
       "      <td>1270.0</td>\n",
       "    </tr>\n",
       "    <tr>\n",
       "      <th>3</th>\n",
       "      <td>1</td>\n",
       "      <td>2</td>\n",
       "      <td>0</td>\n",
       "      <td>1270</td>\n",
       "      <td>False</td>\n",
       "      <td>0</td>\n",
       "      <td>2015-03-16</td>\n",
       "      <td>605</td>\n",
       "      <td>1</td>\n",
       "      <td>True</td>\n",
       "      <td>...</td>\n",
       "      <td>0</td>\n",
       "      <td>2387</td>\n",
       "      <td>True</td>\n",
       "      <td>False</td>\n",
       "      <td>0</td>\n",
       "      <td>3</td>\n",
       "      <td>2015</td>\n",
       "      <td>16</td>\n",
       "      <td>1270.0</td>\n",
       "      <td>1270.0</td>\n",
       "    </tr>\n",
       "    <tr>\n",
       "      <th>4</th>\n",
       "      <td>1</td>\n",
       "      <td>2</td>\n",
       "      <td>0</td>\n",
       "      <td>1270</td>\n",
       "      <td>False</td>\n",
       "      <td>0</td>\n",
       "      <td>2014-05-05</td>\n",
       "      <td>615</td>\n",
       "      <td>1</td>\n",
       "      <td>True</td>\n",
       "      <td>...</td>\n",
       "      <td>0</td>\n",
       "      <td>2072</td>\n",
       "      <td>True</td>\n",
       "      <td>False</td>\n",
       "      <td>0</td>\n",
       "      <td>5</td>\n",
       "      <td>2014</td>\n",
       "      <td>5</td>\n",
       "      <td>1270.0</td>\n",
       "      <td>1270.0</td>\n",
       "    </tr>\n",
       "  </tbody>\n",
       "</table>\n",
       "<p>5 rows × 23 columns</p>\n",
       "</div>"
      ],
      "text/plain": [
       "   Store StoreType Assortment  CompetitionDistance_x  Promo2 PromoInterval  \\\n",
       "0      1         2          0                   1270   False             0   \n",
       "1      1         2          0                   1270   False             0   \n",
       "2      1         2          0                   1270   False             0   \n",
       "3      1         2          0                   1270   False             0   \n",
       "4      1         2          0                   1270   False             0   \n",
       "\n",
       "        Date  Customers DayOfWeek  Open  ...  StateHoliday  \\\n",
       "0 2014-10-20        560         1  True  ...             0   \n",
       "1 2013-07-15        657         1  True  ...             0   \n",
       "2 2013-01-21        607         1  True  ...             0   \n",
       "3 2015-03-16        605         1  True  ...             0   \n",
       "4 2014-05-05        615         1  True  ...             0   \n",
       "\n",
       "   competition_age_days  affectedbycompetition affectedbypromo2  OpeningType  \\\n",
       "0                  2240                   True            False            0   \n",
       "1                  1778                   True            False            0   \n",
       "2                  1603                   True            False            0   \n",
       "3                  2387                   True            False            0   \n",
       "4                  2072                   True            False            0   \n",
       "\n",
       "   month  year dateofmonth CompetitionDistance_y CompetitionDistance  \n",
       "0     10  2014          20                1270.0              1270.0  \n",
       "1      7  2013          15                1270.0              1270.0  \n",
       "2      1  2013          21                1270.0              1270.0  \n",
       "3      3  2015          16                1270.0              1270.0  \n",
       "4      5  2014           5                1270.0              1270.0  \n",
       "\n",
       "[5 rows x 23 columns]"
      ]
     },
     "execution_count": 20,
     "metadata": {},
     "output_type": "execute_result"
    }
   ],
   "source": [
    "trainset.head()"
   ]
  },
  {
   "cell_type": "code",
   "execution_count": 21,
   "metadata": {
    "scrolled": true
   },
   "outputs": [
    {
     "data": {
      "text/plain": [
       "15770"
      ]
     },
     "execution_count": 21,
     "metadata": {},
     "output_type": "execute_result"
    }
   ],
   "source": [
    "trainset['CompetitionDistance_x'].max()"
   ]
  },
  {
   "cell_type": "code",
   "execution_count": 22,
   "metadata": {
    "scrolled": true
   },
   "outputs": [],
   "source": [
    "#remove old version of CompetitionDistance\n",
    "trainset = trainset.drop([\"CompetitionDistance_x\", \"CompetitionDistance_y\"], axis = 1)"
   ]
  },
  {
   "cell_type": "code",
   "execution_count": 23,
   "metadata": {
    "scrolled": true
   },
   "outputs": [
    {
     "data": {
      "text/html": [
       "<div>\n",
       "<style scoped>\n",
       "    .dataframe tbody tr th:only-of-type {\n",
       "        vertical-align: middle;\n",
       "    }\n",
       "\n",
       "    .dataframe tbody tr th {\n",
       "        vertical-align: top;\n",
       "    }\n",
       "\n",
       "    .dataframe thead th {\n",
       "        text-align: right;\n",
       "    }\n",
       "</style>\n",
       "<table border=\"1\" class=\"dataframe\">\n",
       "  <thead>\n",
       "    <tr style=\"text-align: right;\">\n",
       "      <th></th>\n",
       "      <th>Store</th>\n",
       "      <th>StoreType</th>\n",
       "      <th>Assortment</th>\n",
       "      <th>Promo2</th>\n",
       "      <th>PromoInterval</th>\n",
       "      <th>Date</th>\n",
       "      <th>Customers</th>\n",
       "      <th>DayOfWeek</th>\n",
       "      <th>Open</th>\n",
       "      <th>Promo</th>\n",
       "      <th>...</th>\n",
       "      <th>SchoolHoliday</th>\n",
       "      <th>StateHoliday</th>\n",
       "      <th>competition_age_days</th>\n",
       "      <th>affectedbycompetition</th>\n",
       "      <th>affectedbypromo2</th>\n",
       "      <th>OpeningType</th>\n",
       "      <th>month</th>\n",
       "      <th>year</th>\n",
       "      <th>dateofmonth</th>\n",
       "      <th>CompetitionDistance</th>\n",
       "    </tr>\n",
       "  </thead>\n",
       "  <tbody>\n",
       "    <tr>\n",
       "      <th>0</th>\n",
       "      <td>1</td>\n",
       "      <td>2</td>\n",
       "      <td>0</td>\n",
       "      <td>False</td>\n",
       "      <td>0</td>\n",
       "      <td>2014-10-20</td>\n",
       "      <td>560</td>\n",
       "      <td>1</td>\n",
       "      <td>True</td>\n",
       "      <td>True</td>\n",
       "      <td>...</td>\n",
       "      <td>True</td>\n",
       "      <td>0</td>\n",
       "      <td>2240</td>\n",
       "      <td>True</td>\n",
       "      <td>False</td>\n",
       "      <td>0</td>\n",
       "      <td>10</td>\n",
       "      <td>2014</td>\n",
       "      <td>20</td>\n",
       "      <td>1270.0</td>\n",
       "    </tr>\n",
       "    <tr>\n",
       "      <th>1</th>\n",
       "      <td>1</td>\n",
       "      <td>2</td>\n",
       "      <td>0</td>\n",
       "      <td>False</td>\n",
       "      <td>0</td>\n",
       "      <td>2013-07-15</td>\n",
       "      <td>657</td>\n",
       "      <td>1</td>\n",
       "      <td>True</td>\n",
       "      <td>True</td>\n",
       "      <td>...</td>\n",
       "      <td>True</td>\n",
       "      <td>0</td>\n",
       "      <td>1778</td>\n",
       "      <td>True</td>\n",
       "      <td>False</td>\n",
       "      <td>0</td>\n",
       "      <td>7</td>\n",
       "      <td>2013</td>\n",
       "      <td>15</td>\n",
       "      <td>1270.0</td>\n",
       "    </tr>\n",
       "    <tr>\n",
       "      <th>2</th>\n",
       "      <td>1</td>\n",
       "      <td>2</td>\n",
       "      <td>0</td>\n",
       "      <td>False</td>\n",
       "      <td>0</td>\n",
       "      <td>2013-01-21</td>\n",
       "      <td>607</td>\n",
       "      <td>1</td>\n",
       "      <td>True</td>\n",
       "      <td>True</td>\n",
       "      <td>...</td>\n",
       "      <td>False</td>\n",
       "      <td>0</td>\n",
       "      <td>1603</td>\n",
       "      <td>True</td>\n",
       "      <td>False</td>\n",
       "      <td>0</td>\n",
       "      <td>1</td>\n",
       "      <td>2013</td>\n",
       "      <td>21</td>\n",
       "      <td>1270.0</td>\n",
       "    </tr>\n",
       "    <tr>\n",
       "      <th>3</th>\n",
       "      <td>1</td>\n",
       "      <td>2</td>\n",
       "      <td>0</td>\n",
       "      <td>False</td>\n",
       "      <td>0</td>\n",
       "      <td>2015-03-16</td>\n",
       "      <td>605</td>\n",
       "      <td>1</td>\n",
       "      <td>True</td>\n",
       "      <td>True</td>\n",
       "      <td>...</td>\n",
       "      <td>False</td>\n",
       "      <td>0</td>\n",
       "      <td>2387</td>\n",
       "      <td>True</td>\n",
       "      <td>False</td>\n",
       "      <td>0</td>\n",
       "      <td>3</td>\n",
       "      <td>2015</td>\n",
       "      <td>16</td>\n",
       "      <td>1270.0</td>\n",
       "    </tr>\n",
       "    <tr>\n",
       "      <th>4</th>\n",
       "      <td>1</td>\n",
       "      <td>2</td>\n",
       "      <td>0</td>\n",
       "      <td>False</td>\n",
       "      <td>0</td>\n",
       "      <td>2014-05-05</td>\n",
       "      <td>615</td>\n",
       "      <td>1</td>\n",
       "      <td>True</td>\n",
       "      <td>True</td>\n",
       "      <td>...</td>\n",
       "      <td>False</td>\n",
       "      <td>0</td>\n",
       "      <td>2072</td>\n",
       "      <td>True</td>\n",
       "      <td>False</td>\n",
       "      <td>0</td>\n",
       "      <td>5</td>\n",
       "      <td>2014</td>\n",
       "      <td>5</td>\n",
       "      <td>1270.0</td>\n",
       "    </tr>\n",
       "  </tbody>\n",
       "</table>\n",
       "<p>5 rows × 21 columns</p>\n",
       "</div>"
      ],
      "text/plain": [
       "   Store StoreType Assortment  Promo2 PromoInterval       Date  Customers  \\\n",
       "0      1         2          0   False             0 2014-10-20        560   \n",
       "1      1         2          0   False             0 2013-07-15        657   \n",
       "2      1         2          0   False             0 2013-01-21        607   \n",
       "3      1         2          0   False             0 2015-03-16        605   \n",
       "4      1         2          0   False             0 2014-05-05        615   \n",
       "\n",
       "  DayOfWeek  Open  Promo  ...  SchoolHoliday  StateHoliday  \\\n",
       "0         1  True   True  ...           True             0   \n",
       "1         1  True   True  ...           True             0   \n",
       "2         1  True   True  ...          False             0   \n",
       "3         1  True   True  ...          False             0   \n",
       "4         1  True   True  ...          False             0   \n",
       "\n",
       "  competition_age_days  affectedbycompetition  affectedbypromo2  OpeningType  \\\n",
       "0                 2240                   True             False            0   \n",
       "1                 1778                   True             False            0   \n",
       "2                 1603                   True             False            0   \n",
       "3                 2387                   True             False            0   \n",
       "4                 2072                   True             False            0   \n",
       "\n",
       "  month  year dateofmonth CompetitionDistance  \n",
       "0    10  2014          20              1270.0  \n",
       "1     7  2013          15              1270.0  \n",
       "2     1  2013          21              1270.0  \n",
       "3     3  2015          16              1270.0  \n",
       "4     5  2014           5              1270.0  \n",
       "\n",
       "[5 rows x 21 columns]"
      ]
     },
     "execution_count": 23,
     "metadata": {},
     "output_type": "execute_result"
    }
   ],
   "source": [
    "trainset.head()"
   ]
  },
  {
   "cell_type": "code",
   "execution_count": 38,
   "metadata": {
    "scrolled": true
   },
   "outputs": [
    {
     "name": "stdout",
     "output_type": "stream",
     "text": [
      "<class 'pandas.core.frame.DataFrame'>\n",
      "Int64Index: 1017209 entries, 0 to 1017208\n",
      "Data columns (total 19 columns):\n",
      "Store                    1017209 non-null int64\n",
      "StoreType                1017209 non-null category\n",
      "Assortment               1017209 non-null category\n",
      "Promo2                   1017209 non-null bool\n",
      "PromoInterval            1017209 non-null category\n",
      "DayOfWeek                1017209 non-null category\n",
      "Date                     1017209 non-null datetime64[ns]\n",
      "Sales                    1017209 non-null int64\n",
      "Open                     1017209 non-null bool\n",
      "Promo                    1017209 non-null bool\n",
      "StateHoliday             1017209 non-null category\n",
      "SchoolHoliday            1017209 non-null bool\n",
      "competition_age_days     1017209 non-null int64\n",
      "affectedbycompetition    1017209 non-null bool\n",
      "affectedbypromo2         1017209 non-null bool\n",
      "month                    1017209 non-null category\n",
      "NewPromo2Month           1017209 non-null bool\n",
      "OpeningType              1017209 non-null category\n",
      "CompetitionDistance      1017209 non-null float64\n",
      "dtypes: bool(7), category(7), datetime64[ns](1), float64(1), int64(3)\n",
      "memory usage: 60.1 MB\n"
     ]
    }
   ],
   "source": [
    "trainset.info()"
   ]
  },
  {
   "cell_type": "code",
   "execution_count": 24,
   "metadata": {
    "scrolled": false
   },
   "outputs": [
    {
     "data": {
      "image/png": "[encoded data removed]",
      "text/plain": [
       "<Figure size 432x288 with 1 Axes>"
      ]
     },
     "metadata": {
      "needs_background": "light"
     },
     "output_type": "display_data"
    }
   ],
   "source": [
    "plot_hist(trainset['CompetitionDistance'], 'CompetitionDistance')"
   ]
  },
  {
   "cell_type": "code",
   "execution_count": 1,
   "metadata": {},
   "outputs": [
    {
     "ename": "NameError",
     "evalue": "name 'plt' is not defined",
     "output_type": "error",
     "traceback": [
      "\u001b[0;31m---------------------------------------------------------------------------\u001b[0m",
      "\u001b[0;31mNameError\u001b[0m                                 Traceback (most recent call last)",
      "\u001b[0;32m<ipython-input-1-6c1ad0ca8cde>\u001b[0m in \u001b[0;36m<module>\u001b[0;34m\u001b[0m\n\u001b[0;32m----> 1\u001b[0;31m \u001b[0mplt\u001b[0m\u001b[0;34m.\u001b[0m\u001b[0mboxplot\u001b[0m\u001b[0;34m(\u001b[0m\u001b[0mtrainset\u001b[0m\u001b[0;34m[\u001b[0m\u001b[0;34m'CompetitionDistance'\u001b[0m\u001b[0;34m]\u001b[0m\u001b[0;34m)\u001b[0m\u001b[0;34m\u001b[0m\u001b[0;34m\u001b[0m\u001b[0m\n\u001b[0m",
      "\u001b[0;31mNameError\u001b[0m: name 'plt' is not defined"
     ]
    }
   ],
   "source": [
    "plt.boxplot(trainset['CompetitionDistance'])"
   ]
  },
  {
   "cell_type": "code",
   "execution_count": 47,
   "metadata": {},
   "outputs": [],
   "source": [
    "#before actually implementing transformation i am going to save the csv just in case\n",
    "trainset.to_csv(\"train_merged0.5.csv\", index=False)"
   ]
  },
  {
   "cell_type": "code",
   "execution_count": 95,
   "metadata": {
    "scrolled": false
   },
   "outputs": [
    {
     "data": {
      "text/html": [
       "<div>\n",
       "<style scoped>\n",
       "    .dataframe tbody tr th:only-of-type {\n",
       "        vertical-align: middle;\n",
       "    }\n",
       "\n",
       "    .dataframe tbody tr th {\n",
       "        vertical-align: top;\n",
       "    }\n",
       "\n",
       "    .dataframe thead th {\n",
       "        text-align: right;\n",
       "    }\n",
       "</style>\n",
       "<table border=\"1\" class=\"dataframe\">\n",
       "  <thead>\n",
       "    <tr style=\"text-align: right;\">\n",
       "      <th></th>\n",
       "      <th>Store</th>\n",
       "      <th>StoreType</th>\n",
       "      <th>Assortment</th>\n",
       "      <th>Promo2</th>\n",
       "      <th>PromoInterval</th>\n",
       "      <th>DayOfWeek</th>\n",
       "      <th>Date</th>\n",
       "      <th>Sales</th>\n",
       "      <th>Open</th>\n",
       "      <th>Promo</th>\n",
       "      <th>StateHoliday</th>\n",
       "      <th>SchoolHoliday</th>\n",
       "      <th>affectedbypromo2</th>\n",
       "      <th>affectedbycompetition</th>\n",
       "      <th>competition_age_days</th>\n",
       "      <th>month</th>\n",
       "      <th>NewPromo2Month</th>\n",
       "      <th>OpeningType</th>\n",
       "      <th>CompetitionDistance</th>\n",
       "    </tr>\n",
       "  </thead>\n",
       "  <tbody>\n",
       "    <tr>\n",
       "      <th>0</th>\n",
       "      <td>1</td>\n",
       "      <td>2</td>\n",
       "      <td>0</td>\n",
       "      <td>False</td>\n",
       "      <td>0</td>\n",
       "      <td>4</td>\n",
       "      <td>2015-09-17</td>\n",
       "      <td>NaN</td>\n",
       "      <td>True</td>\n",
       "      <td>True</td>\n",
       "      <td>0</td>\n",
       "      <td>False</td>\n",
       "      <td>False</td>\n",
       "      <td>True</td>\n",
       "      <td>2572</td>\n",
       "      <td>9</td>\n",
       "      <td>False</td>\n",
       "      <td>0</td>\n",
       "      <td>1270.0</td>\n",
       "    </tr>\n",
       "    <tr>\n",
       "      <th>1</th>\n",
       "      <td>1</td>\n",
       "      <td>2</td>\n",
       "      <td>0</td>\n",
       "      <td>False</td>\n",
       "      <td>0</td>\n",
       "      <td>3</td>\n",
       "      <td>2015-09-16</td>\n",
       "      <td>NaN</td>\n",
       "      <td>True</td>\n",
       "      <td>True</td>\n",
       "      <td>0</td>\n",
       "      <td>False</td>\n",
       "      <td>False</td>\n",
       "      <td>True</td>\n",
       "      <td>2571</td>\n",
       "      <td>9</td>\n",
       "      <td>False</td>\n",
       "      <td>0</td>\n",
       "      <td>1270.0</td>\n",
       "    </tr>\n",
       "    <tr>\n",
       "      <th>2</th>\n",
       "      <td>1</td>\n",
       "      <td>2</td>\n",
       "      <td>0</td>\n",
       "      <td>False</td>\n",
       "      <td>0</td>\n",
       "      <td>2</td>\n",
       "      <td>2015-09-15</td>\n",
       "      <td>NaN</td>\n",
       "      <td>True</td>\n",
       "      <td>True</td>\n",
       "      <td>0</td>\n",
       "      <td>False</td>\n",
       "      <td>False</td>\n",
       "      <td>True</td>\n",
       "      <td>2570</td>\n",
       "      <td>9</td>\n",
       "      <td>False</td>\n",
       "      <td>0</td>\n",
       "      <td>1270.0</td>\n",
       "    </tr>\n",
       "    <tr>\n",
       "      <th>3</th>\n",
       "      <td>1</td>\n",
       "      <td>2</td>\n",
       "      <td>0</td>\n",
       "      <td>False</td>\n",
       "      <td>0</td>\n",
       "      <td>1</td>\n",
       "      <td>2015-09-14</td>\n",
       "      <td>NaN</td>\n",
       "      <td>True</td>\n",
       "      <td>True</td>\n",
       "      <td>0</td>\n",
       "      <td>False</td>\n",
       "      <td>False</td>\n",
       "      <td>True</td>\n",
       "      <td>2569</td>\n",
       "      <td>9</td>\n",
       "      <td>False</td>\n",
       "      <td>0</td>\n",
       "      <td>1270.0</td>\n",
       "    </tr>\n",
       "    <tr>\n",
       "      <th>4</th>\n",
       "      <td>1</td>\n",
       "      <td>2</td>\n",
       "      <td>0</td>\n",
       "      <td>False</td>\n",
       "      <td>0</td>\n",
       "      <td>7</td>\n",
       "      <td>2015-09-13</td>\n",
       "      <td>NaN</td>\n",
       "      <td>False</td>\n",
       "      <td>False</td>\n",
       "      <td>0</td>\n",
       "      <td>False</td>\n",
       "      <td>False</td>\n",
       "      <td>True</td>\n",
       "      <td>2568</td>\n",
       "      <td>9</td>\n",
       "      <td>False</td>\n",
       "      <td>0</td>\n",
       "      <td>1270.0</td>\n",
       "    </tr>\n",
       "  </tbody>\n",
       "</table>\n",
       "</div>"
      ],
      "text/plain": [
       "   Store StoreType Assortment  Promo2 PromoInterval DayOfWeek       Date  \\\n",
       "0      1         2          0   False             0         4 2015-09-17   \n",
       "1      1         2          0   False             0         3 2015-09-16   \n",
       "2      1         2          0   False             0         2 2015-09-15   \n",
       "3      1         2          0   False             0         1 2015-09-14   \n",
       "4      1         2          0   False             0         7 2015-09-13   \n",
       "\n",
       "   Sales   Open  Promo StateHoliday  SchoolHoliday  affectedbypromo2  \\\n",
       "0    NaN   True   True            0          False             False   \n",
       "1    NaN   True   True            0          False             False   \n",
       "2    NaN   True   True            0          False             False   \n",
       "3    NaN   True   True            0          False             False   \n",
       "4    NaN  False  False            0          False             False   \n",
       "\n",
       "   affectedbycompetition  competition_age_days month  NewPromo2Month  \\\n",
       "0                   True                  2572     9           False   \n",
       "1                   True                  2571     9           False   \n",
       "2                   True                  2570     9           False   \n",
       "3                   True                  2569     9           False   \n",
       "4                   True                  2568     9           False   \n",
       "\n",
       "  OpeningType  CompetitionDistance  \n",
       "0           0               1270.0  \n",
       "1           0               1270.0  \n",
       "2           0               1270.0  \n",
       "3           0               1270.0  \n",
       "4           0               1270.0  "
      ]
     },
     "execution_count": 95,
     "metadata": {},
     "output_type": "execute_result"
    }
   ],
   "source": [
    "#do the same to testset\n",
    "testset = pd.read_csv(\"test_merged0.3.csv\")\n",
    "for column in category_columns:\n",
    "    testset[column] = testset[column].astype('category')\n",
    "for column in binary_columns:\n",
    "    testset[column] = testset[column].astype('bool')\n",
    "testset = testset.drop([\"CompetitionOpenSinceMonth\", \"CompetitionOpenSinceYear\", \"Customers\", \n",
    "                              \"CompetitionOpenSinceDate\", \"Promo2SinceYear\", \"Promo2SinceWeek\", \n",
    "                              \"Promo2SinceDate\"], axis = 1)\n",
    "testset['Date']= pd.to_datetime(testset['Date']) \n",
    "testset = pd.merge(testset,store,on='Store', how='inner')\n",
    "testset[\"CompetitionDistance\"] = testset[\"CompetitionDistance_y\"]\n",
    "testset = testset.drop([\"CompetitionDistance_x\", \"CompetitionDistance_y\"], axis = 1)\n",
    "testset.head()"
   ]
  },
  {
   "cell_type": "code",
   "execution_count": 96,
   "metadata": {},
   "outputs": [],
   "source": [
    "#saving\n",
    "testset.to_csv(\"test_merged0.5.csv\", index=False)"
   ]
  },
  {
   "cell_type": "code",
   "execution_count": 50,
   "metadata": {
    "scrolled": true
   },
   "outputs": [
    {
     "data": {
      "text/plain": [
       "<matplotlib.axes._subplots.AxesSubplot at 0x1a253eb828>"
      ]
     },
     "execution_count": 50,
     "metadata": {},
     "output_type": "execute_result"
    },
    {
     "data": {
      "image/png": "[encoded data removed]",
      "text/plain": [
       "<Figure size 432x288 with 2 Axes>"
      ]
     },
     "metadata": {
      "needs_background": "light"
     },
     "output_type": "display_data"
    }
   ],
   "source": [
    "#checking correlation\n",
    "corr = trainset.corr()\n",
    "sns.heatmap(corr)"
   ]
  },
  {
   "cell_type": "code",
   "execution_count": 51,
   "metadata": {
    "scrolled": true
   },
   "outputs": [
    {
     "data": {
      "text/plain": [
       "Promo2                  -0.091040\n",
       "Sales                    1.000000\n",
       "Open                     0.678472\n",
       "Promo                    0.452345\n",
       "SchoolHoliday            0.085124\n",
       "competition_age_days    -0.002709\n",
       "affectedbycompetition   -0.015717\n",
       "affectedbypromo2        -0.080329\n",
       "NewPromo2Month          -0.044955\n",
       "CompetitionDistance     -0.019207\n",
       "Name: Sales, dtype: float64"
      ]
     },
     "execution_count": 51,
     "metadata": {},
     "output_type": "execute_result"
    }
   ],
   "source": [
    "#Sales has high correlation with: \n",
    "#1. 'Open' (but it's useless) since if it's = 0 then 'Sales'=0\n",
    "#2. 'Promo'\n",
    "trainset[trainset.columns[1:]].corr()['Sales'][:]"
   ]
  },
  {
   "cell_type": "code",
   "execution_count": null,
   "metadata": {},
   "outputs": [],
   "source": [
    "#cannot calculate correlation for categorical variable\n",
    "#i'll do it on separate file using LabelEncoder, now back to transformation"
   ]
  },
  {
   "cell_type": "code",
   "execution_count": 56,
   "metadata": {
    "scrolled": true
   },
   "outputs": [
    {
     "data": {
      "text/plain": [
       "9.401287923104167"
      ]
     },
     "execution_count": 56,
     "metadata": {},
     "output_type": "execute_result"
    }
   ],
   "source": [
    "trainset['competition_age_days'].skew()"
   ]
  },
  {
   "cell_type": "code",
   "execution_count": 58,
   "metadata": {
    "scrolled": true
   },
   "outputs": [
    {
     "data": {
      "text/plain": [
       "count    1.017209e+06\n",
       "mean     1.717215e+03\n",
       "std      1.812286e+03\n",
       "min      0.000000e+00\n",
       "25%      8.890000e+02\n",
       "50%      1.402000e+03\n",
       "75%      2.234000e+03\n",
       "max      4.221400e+04\n",
       "Name: competition_age_days, dtype: float64"
      ]
     },
     "execution_count": 58,
     "metadata": {},
     "output_type": "execute_result"
    }
   ],
   "source": [
    "trainset['competition_age_days'].describe()"
   ]
  },
  {
   "cell_type": "code",
   "execution_count": 57,
   "metadata": {
    "scrolled": true
   },
   "outputs": [
    {
     "data": {
      "text/plain": [
       "2.9323699217340797"
      ]
     },
     "execution_count": 57,
     "metadata": {},
     "output_type": "execute_result"
    }
   ],
   "source": [
    "trainset['CompetitionDistance'].skew()"
   ]
  },
  {
   "cell_type": "code",
   "execution_count": 59,
   "metadata": {
    "scrolled": true
   },
   "outputs": [
    {
     "data": {
      "text/plain": [
       "count    1.017209e+06\n",
       "mean     5.430020e+03\n",
       "std      7.705298e+03\n",
       "min      2.000000e+01\n",
       "25%      7.100000e+02\n",
       "50%      2.330000e+03\n",
       "75%      6.880000e+03\n",
       "max      7.586000e+04\n",
       "Name: CompetitionDistance, dtype: float64"
      ]
     },
     "execution_count": 59,
     "metadata": {},
     "output_type": "execute_result"
    }
   ],
   "source": [
    "trainset['CompetitionDistance'].describe()"
   ]
  },
  {
   "cell_type": "code",
   "execution_count": 25,
   "metadata": {
    "scrolled": false
   },
   "outputs": [
    {
     "name": "stderr",
     "output_type": "stream",
     "text": [
      "/Users/rfdanti/anaconda3/lib/python3.7/site-packages/ipykernel_launcher.py:3: RuntimeWarning: divide by zero encountered in log\n",
      "  This is separate from the ipykernel package so we can avoid doing imports until\n"
     ]
    },
    {
     "data": {
      "text/plain": [
       "count    1.050330e+06\n",
       "mean             -inf\n",
       "std               NaN\n",
       "min              -inf\n",
       "25%      6.791221e+00\n",
       "50%      7.254178e+00\n",
       "75%      7.718685e+00\n",
       "max      1.065051e+01\n",
       "Name: competition_age_days, dtype: float64"
      ]
     },
     "execution_count": 25,
     "metadata": {},
     "output_type": "execute_result"
    }
   ],
   "source": [
    "#Competition Age Days\n",
    "#Log transformation\n",
    "CompetitionAge_log = np.log(trainset['competition_age_days'])\n",
    "CompetitionAge_log.describe()"
   ]
  },
  {
   "cell_type": "code",
   "execution_count": 84,
   "metadata": {},
   "outputs": [
    {
     "data": {
      "text/plain": [
       "nan"
      ]
     },
     "execution_count": 84,
     "metadata": {},
     "output_type": "execute_result"
    }
   ],
   "source": [
    "CompetitionAge_log.skew()"
   ]
  },
  {
   "cell_type": "code",
   "execution_count": 26,
   "metadata": {
    "scrolled": true
   },
   "outputs": [
    {
     "data": {
      "text/plain": [
       "count    1.050330e+06\n",
       "mean     3.706093e+01\n",
       "std      1.881460e+01\n",
       "min      0.000000e+00\n",
       "25%      2.983287e+01\n",
       "50%      3.760319e+01\n",
       "75%      4.743416e+01\n",
       "max      2.054605e+02\n",
       "Name: competition_age_days, dtype: float64"
      ]
     },
     "execution_count": 26,
     "metadata": {},
     "output_type": "execute_result"
    }
   ],
   "source": [
    "#Since Competition Age has 0 value, try square root\n",
    "CompetitionAge_sqrt = np.sqrt(trainset['competition_age_days'])\n",
    "CompetitionAge_sqrt.describe()"
   ]
  },
  {
   "cell_type": "code",
   "execution_count": 66,
   "metadata": {
    "scrolled": false
   },
   "outputs": [
    {
     "data": {
      "text/plain": [
       "0.4822194716264831"
      ]
     },
     "execution_count": 66,
     "metadata": {},
     "output_type": "execute_result"
    }
   ],
   "source": [
    "CompetitionAge_sqrt.skew()"
   ]
  },
  {
   "cell_type": "code",
   "execution_count": 76,
   "metadata": {
    "scrolled": true
   },
   "outputs": [
    {
     "ename": "ValueError",
     "evalue": "Data must be positive.",
     "output_type": "error",
     "traceback": [
      "\u001b[0;31m---------------------------------------------------------------------------\u001b[0m",
      "\u001b[0;31mValueError\u001b[0m                                Traceback (most recent call last)",
      "\u001b[0;32m<ipython-input-76-38ff1dbf1fa9>\u001b[0m in \u001b[0;36m<module>\u001b[0;34m\u001b[0m\n\u001b[1;32m      1\u001b[0m \u001b[0;31m#Box-Cox Transformation\u001b[0m\u001b[0;34m\u001b[0m\u001b[0;34m\u001b[0m\u001b[0;34m\u001b[0m\u001b[0m\n\u001b[0;32m----> 2\u001b[0;31m \u001b[0mCompetitionAge_bc\u001b[0m \u001b[0;34m=\u001b[0m \u001b[0mstats\u001b[0m\u001b[0;34m.\u001b[0m\u001b[0mboxcox\u001b[0m\u001b[0;34m(\u001b[0m\u001b[0mtrainset\u001b[0m\u001b[0;34m[\u001b[0m\u001b[0;34m'competition_age_days'\u001b[0m\u001b[0;34m]\u001b[0m\u001b[0;34m)\u001b[0m\u001b[0;34m[\u001b[0m\u001b[0;36m0\u001b[0m\u001b[0;34m]\u001b[0m\u001b[0;34m\u001b[0m\u001b[0;34m\u001b[0m\u001b[0m\n\u001b[0m\u001b[1;32m      3\u001b[0m \u001b[0mpd\u001b[0m\u001b[0;34m.\u001b[0m\u001b[0mSeries\u001b[0m\u001b[0;34m(\u001b[0m\u001b[0mCompetitionAge_bc\u001b[0m\u001b[0;34m)\u001b[0m\u001b[0;34m.\u001b[0m\u001b[0mdescribe\u001b[0m\u001b[0;34m(\u001b[0m\u001b[0;34m)\u001b[0m\u001b[0;34m\u001b[0m\u001b[0;34m\u001b[0m\u001b[0m\n",
      "\u001b[0;32m~/anaconda3/lib/python3.7/site-packages/scipy/stats/morestats.py\u001b[0m in \u001b[0;36mboxcox\u001b[0;34m(x, lmbda, alpha)\u001b[0m\n\u001b[1;32m   1037\u001b[0m \u001b[0;34m\u001b[0m\u001b[0m\n\u001b[1;32m   1038\u001b[0m     \u001b[0;32mif\u001b[0m \u001b[0many\u001b[0m\u001b[0;34m(\u001b[0m\u001b[0mx\u001b[0m \u001b[0;34m<=\u001b[0m \u001b[0;36m0\u001b[0m\u001b[0;34m)\u001b[0m\u001b[0;34m:\u001b[0m\u001b[0;34m\u001b[0m\u001b[0;34m\u001b[0m\u001b[0m\n\u001b[0;32m-> 1039\u001b[0;31m         \u001b[0;32mraise\u001b[0m \u001b[0mValueError\u001b[0m\u001b[0;34m(\u001b[0m\u001b[0;34m\"Data must be positive.\"\u001b[0m\u001b[0;34m)\u001b[0m\u001b[0;34m\u001b[0m\u001b[0;34m\u001b[0m\u001b[0m\n\u001b[0m\u001b[1;32m   1040\u001b[0m \u001b[0;34m\u001b[0m\u001b[0m\n\u001b[1;32m   1041\u001b[0m     \u001b[0;32mif\u001b[0m \u001b[0mlmbda\u001b[0m \u001b[0;32mis\u001b[0m \u001b[0;32mnot\u001b[0m \u001b[0;32mNone\u001b[0m\u001b[0;34m:\u001b[0m  \u001b[0;31m# single transformation\u001b[0m\u001b[0;34m\u001b[0m\u001b[0;34m\u001b[0m\u001b[0m\n",
      "\u001b[0;31mValueError\u001b[0m: Data must be positive."
     ]
    }
   ],
   "source": [
    "#Box-Cox Transformation\n",
    "CompetitionAge_bc = stats.boxcox(trainset['competition_age_days'])[0]\n",
    "pd.Series(CompetitionAge_bc).describe()"
   ]
  },
  {
   "cell_type": "code",
   "execution_count": 83,
   "metadata": {
    "scrolled": false
   },
   "outputs": [
    {
     "data": {
      "text/html": [
       "<div>\n",
       "<style scoped>\n",
       "    .dataframe tbody tr th:only-of-type {\n",
       "        vertical-align: middle;\n",
       "    }\n",
       "\n",
       "    .dataframe tbody tr th {\n",
       "        vertical-align: top;\n",
       "    }\n",
       "\n",
       "    .dataframe thead th {\n",
       "        text-align: right;\n",
       "    }\n",
       "</style>\n",
       "<table border=\"1\" class=\"dataframe\">\n",
       "  <thead>\n",
       "    <tr style=\"text-align: right;\">\n",
       "      <th></th>\n",
       "      <th>Store</th>\n",
       "      <th>Sales</th>\n",
       "      <th>competition_age_days</th>\n",
       "      <th>CompetitionDistance</th>\n",
       "    </tr>\n",
       "  </thead>\n",
       "  <tbody>\n",
       "    <tr>\n",
       "      <th>count</th>\n",
       "      <td>84847.000000</td>\n",
       "      <td>84847.000000</td>\n",
       "      <td>84847.0</td>\n",
       "      <td>84847.000000</td>\n",
       "    </tr>\n",
       "    <tr>\n",
       "      <th>mean</th>\n",
       "      <td>544.888859</td>\n",
       "      <td>5975.485816</td>\n",
       "      <td>0.0</td>\n",
       "      <td>5491.198157</td>\n",
       "    </tr>\n",
       "    <tr>\n",
       "      <th>std</th>\n",
       "      <td>335.043665</td>\n",
       "      <td>3990.211550</td>\n",
       "      <td>0.0</td>\n",
       "      <td>7709.399881</td>\n",
       "    </tr>\n",
       "    <tr>\n",
       "      <th>min</th>\n",
       "      <td>5.000000</td>\n",
       "      <td>0.000000</td>\n",
       "      <td>0.0</td>\n",
       "      <td>30.000000</td>\n",
       "    </tr>\n",
       "    <tr>\n",
       "      <th>25%</th>\n",
       "      <td>261.000000</td>\n",
       "      <td>3898.500000</td>\n",
       "      <td>0.0</td>\n",
       "      <td>720.000000</td>\n",
       "    </tr>\n",
       "    <tr>\n",
       "      <th>50%</th>\n",
       "      <td>550.000000</td>\n",
       "      <td>5980.000000</td>\n",
       "      <td>0.0</td>\n",
       "      <td>2020.000000</td>\n",
       "    </tr>\n",
       "    <tr>\n",
       "      <th>75%</th>\n",
       "      <td>859.000000</td>\n",
       "      <td>8123.000000</td>\n",
       "      <td>0.0</td>\n",
       "      <td>7170.000000</td>\n",
       "    </tr>\n",
       "    <tr>\n",
       "      <th>max</th>\n",
       "      <td>1111.000000</td>\n",
       "      <td>37646.000000</td>\n",
       "      <td>0.0</td>\n",
       "      <td>58260.000000</td>\n",
       "    </tr>\n",
       "  </tbody>\n",
       "</table>\n",
       "</div>"
      ],
      "text/plain": [
       "              Store         Sales  competition_age_days  CompetitionDistance\n",
       "count  84847.000000  84847.000000               84847.0         84847.000000\n",
       "mean     544.888859   5975.485816                   0.0          5491.198157\n",
       "std      335.043665   3990.211550                   0.0          7709.399881\n",
       "min        5.000000      0.000000                   0.0            30.000000\n",
       "25%      261.000000   3898.500000                   0.0           720.000000\n",
       "50%      550.000000   5980.000000                   0.0          2020.000000\n",
       "75%      859.000000   8123.000000                   0.0          7170.000000\n",
       "max     1111.000000  37646.000000                   0.0         58260.000000"
      ]
     },
     "execution_count": 83,
     "metadata": {},
     "output_type": "execute_result"
    }
   ],
   "source": [
    "check = trainset[trainset['competition_age_days']==0]\n",
    "check.describe()"
   ]
  },
  {
   "cell_type": "code",
   "execution_count": 61,
   "metadata": {},
   "outputs": [
    {
     "data": {
      "text/plain": [
       "count    1.017209e+06\n",
       "mean     7.644626e+00\n",
       "std      1.559950e+00\n",
       "min      2.995732e+00\n",
       "25%      6.565265e+00\n",
       "50%      7.753624e+00\n",
       "75%      8.836374e+00\n",
       "max      1.123664e+01\n",
       "Name: CompetitionDistance, dtype: float64"
      ]
     },
     "execution_count": 61,
     "metadata": {},
     "output_type": "execute_result"
    }
   ],
   "source": [
    "#Competition Distance\n",
    "#Log transformation\n",
    "CompetitionDistance_log = np.log(trainset['CompetitionDistance'])\n",
    "CompetitionDistance_log.describe()"
   ]
  },
  {
   "cell_type": "code",
   "execution_count": 62,
   "metadata": {},
   "outputs": [
    {
     "data": {
      "text/plain": [
       "-0.3626368615073435"
      ]
     },
     "execution_count": 62,
     "metadata": {},
     "output_type": "execute_result"
    }
   ],
   "source": [
    "CompetitionDistance_log.skew()"
   ]
  },
  {
   "cell_type": "code",
   "execution_count": 68,
   "metadata": {},
   "outputs": [
    {
     "data": {
      "text/plain": [
       "count    1.017209e+06\n",
       "mean     5.997251e+01\n",
       "std      4.281728e+01\n",
       "min      4.472136e+00\n",
       "25%      2.664583e+01\n",
       "50%      4.827007e+01\n",
       "75%      8.294577e+01\n",
       "max      2.754269e+02\n",
       "Name: CompetitionDistance, dtype: float64"
      ]
     },
     "execution_count": 68,
     "metadata": {},
     "output_type": "execute_result"
    }
   ],
   "source": [
    "#Sqrt transformation\n",
    "CompetitionDistance_sqrt = np.sqrt(trainset['CompetitionDistance'])\n",
    "CompetitionDistance_sqrt.describe()"
   ]
  },
  {
   "cell_type": "code",
   "execution_count": 69,
   "metadata": {},
   "outputs": [
    {
     "data": {
      "text/plain": [
       "1.1677440721836958"
      ]
     },
     "execution_count": 69,
     "metadata": {},
     "output_type": "execute_result"
    }
   ],
   "source": [
    "CompetitionDistance_sqrt.skew()"
   ]
  },
  {
   "cell_type": "code",
   "execution_count": 27,
   "metadata": {
    "scrolled": true
   },
   "outputs": [
    {
     "data": {
      "text/plain": [
       "count    1.050330e+06\n",
       "mean     1.174741e+01\n",
       "std      3.294522e+00\n",
       "min      3.493838e+00\n",
       "25%      9.314063e+00\n",
       "50%      1.172321e+01\n",
       "75%      1.421006e+01\n",
       "max      2.078645e+01\n",
       "dtype: float64"
      ]
     },
     "execution_count": 27,
     "metadata": {},
     "output_type": "execute_result"
    }
   ],
   "source": [
    "#Box-Cox Transformation\n",
    "CompetitionDistance_bc = stats.boxcox(trainset['CompetitionDistance'])[0]\n",
    "pd.Series(CompetitionDistance_bc).describe()"
   ]
  },
  {
   "cell_type": "code",
   "execution_count": 75,
   "metadata": {},
   "outputs": [
    {
     "data": {
      "text/plain": [
       "-0.03354920005161865"
      ]
     },
     "execution_count": 75,
     "metadata": {},
     "output_type": "execute_result"
    }
   ],
   "source": [
    "pd.Series(CompetitionDistance_bc).skew()"
   ]
  },
  {
   "cell_type": "code",
   "execution_count": 28,
   "metadata": {},
   "outputs": [],
   "source": [
    "#So far, we can choose Sqrt for 'competition_age_days' and Box-Cox for 'CompetitionDistance'\n",
    "trainset['CompetitionAge_sqrt'] = np.sqrt(trainset['competition_age_days'])\n",
    "trainset['CompetitionDistance_bc'] = stats.boxcox(trainset['CompetitionDistance'])[0]\n",
    "#trainset = trainset.drop([\"competition_age_days\", \"CompetitionDistance\"], axis = 1)"
   ]
  },
  {
   "cell_type": "code",
   "execution_count": 29,
   "metadata": {},
   "outputs": [],
   "source": [
    "#So far, we can choose Sqrt for 'competition_age_days' and Box-Cox for 'CompetitionDistance'\n",
    "trainset['CompetitionAge_sqrt'] = round(trainset['CompetitionAge_sqrt'],0)\n",
    "trainset['CompetitionDistance_bc'] = round(trainset['CompetitionDistance_bc'],0)\n",
    "#trainset = trainset.drop([\"competition_age_days\", \"CompetitionDistance\"], axis = 1)"
   ]
  },
  {
   "cell_type": "code",
   "execution_count": 30,
   "metadata": {},
   "outputs": [],
   "source": [
    "#set categorical type\n",
    "int_columns = ['CompetitionAge_sqrt', 'CompetitionDistance_bc', 'CompetitionDistance']\n",
    "     \n",
    "for column in int_columns:\n",
    "    trainset[column] = trainset[column].astype('int')"
   ]
  },
  {
   "cell_type": "code",
   "execution_count": 31,
   "metadata": {
    "scrolled": true
   },
   "outputs": [
    {
     "data": {
      "text/html": [
       "<div>\n",
       "<style scoped>\n",
       "    .dataframe tbody tr th:only-of-type {\n",
       "        vertical-align: middle;\n",
       "    }\n",
       "\n",
       "    .dataframe tbody tr th {\n",
       "        vertical-align: top;\n",
       "    }\n",
       "\n",
       "    .dataframe thead th {\n",
       "        text-align: right;\n",
       "    }\n",
       "</style>\n",
       "<table border=\"1\" class=\"dataframe\">\n",
       "  <thead>\n",
       "    <tr style=\"text-align: right;\">\n",
       "      <th></th>\n",
       "      <th>Store</th>\n",
       "      <th>StoreType</th>\n",
       "      <th>Assortment</th>\n",
       "      <th>Promo2</th>\n",
       "      <th>PromoInterval</th>\n",
       "      <th>Date</th>\n",
       "      <th>Customers</th>\n",
       "      <th>DayOfWeek</th>\n",
       "      <th>Open</th>\n",
       "      <th>Promo</th>\n",
       "      <th>...</th>\n",
       "      <th>competition_age_days</th>\n",
       "      <th>affectedbycompetition</th>\n",
       "      <th>affectedbypromo2</th>\n",
       "      <th>OpeningType</th>\n",
       "      <th>month</th>\n",
       "      <th>year</th>\n",
       "      <th>dateofmonth</th>\n",
       "      <th>CompetitionDistance</th>\n",
       "      <th>CompetitionAge_sqrt</th>\n",
       "      <th>CompetitionDistance_bc</th>\n",
       "    </tr>\n",
       "  </thead>\n",
       "  <tbody>\n",
       "    <tr>\n",
       "      <th>0</th>\n",
       "      <td>1</td>\n",
       "      <td>2</td>\n",
       "      <td>0</td>\n",
       "      <td>False</td>\n",
       "      <td>0</td>\n",
       "      <td>2014-10-20</td>\n",
       "      <td>560</td>\n",
       "      <td>1</td>\n",
       "      <td>True</td>\n",
       "      <td>True</td>\n",
       "      <td>...</td>\n",
       "      <td>2240</td>\n",
       "      <td>True</td>\n",
       "      <td>False</td>\n",
       "      <td>0</td>\n",
       "      <td>10</td>\n",
       "      <td>2014</td>\n",
       "      <td>20</td>\n",
       "      <td>1270</td>\n",
       "      <td>47</td>\n",
       "      <td>10</td>\n",
       "    </tr>\n",
       "    <tr>\n",
       "      <th>1</th>\n",
       "      <td>1</td>\n",
       "      <td>2</td>\n",
       "      <td>0</td>\n",
       "      <td>False</td>\n",
       "      <td>0</td>\n",
       "      <td>2013-07-15</td>\n",
       "      <td>657</td>\n",
       "      <td>1</td>\n",
       "      <td>True</td>\n",
       "      <td>True</td>\n",
       "      <td>...</td>\n",
       "      <td>1778</td>\n",
       "      <td>True</td>\n",
       "      <td>False</td>\n",
       "      <td>0</td>\n",
       "      <td>7</td>\n",
       "      <td>2013</td>\n",
       "      <td>15</td>\n",
       "      <td>1270</td>\n",
       "      <td>42</td>\n",
       "      <td>10</td>\n",
       "    </tr>\n",
       "    <tr>\n",
       "      <th>2</th>\n",
       "      <td>1</td>\n",
       "      <td>2</td>\n",
       "      <td>0</td>\n",
       "      <td>False</td>\n",
       "      <td>0</td>\n",
       "      <td>2013-01-21</td>\n",
       "      <td>607</td>\n",
       "      <td>1</td>\n",
       "      <td>True</td>\n",
       "      <td>True</td>\n",
       "      <td>...</td>\n",
       "      <td>1603</td>\n",
       "      <td>True</td>\n",
       "      <td>False</td>\n",
       "      <td>0</td>\n",
       "      <td>1</td>\n",
       "      <td>2013</td>\n",
       "      <td>21</td>\n",
       "      <td>1270</td>\n",
       "      <td>40</td>\n",
       "      <td>10</td>\n",
       "    </tr>\n",
       "    <tr>\n",
       "      <th>3</th>\n",
       "      <td>1</td>\n",
       "      <td>2</td>\n",
       "      <td>0</td>\n",
       "      <td>False</td>\n",
       "      <td>0</td>\n",
       "      <td>2015-03-16</td>\n",
       "      <td>605</td>\n",
       "      <td>1</td>\n",
       "      <td>True</td>\n",
       "      <td>True</td>\n",
       "      <td>...</td>\n",
       "      <td>2387</td>\n",
       "      <td>True</td>\n",
       "      <td>False</td>\n",
       "      <td>0</td>\n",
       "      <td>3</td>\n",
       "      <td>2015</td>\n",
       "      <td>16</td>\n",
       "      <td>1270</td>\n",
       "      <td>49</td>\n",
       "      <td>10</td>\n",
       "    </tr>\n",
       "    <tr>\n",
       "      <th>4</th>\n",
       "      <td>1</td>\n",
       "      <td>2</td>\n",
       "      <td>0</td>\n",
       "      <td>False</td>\n",
       "      <td>0</td>\n",
       "      <td>2014-05-05</td>\n",
       "      <td>615</td>\n",
       "      <td>1</td>\n",
       "      <td>True</td>\n",
       "      <td>True</td>\n",
       "      <td>...</td>\n",
       "      <td>2072</td>\n",
       "      <td>True</td>\n",
       "      <td>False</td>\n",
       "      <td>0</td>\n",
       "      <td>5</td>\n",
       "      <td>2014</td>\n",
       "      <td>5</td>\n",
       "      <td>1270</td>\n",
       "      <td>46</td>\n",
       "      <td>10</td>\n",
       "    </tr>\n",
       "  </tbody>\n",
       "</table>\n",
       "<p>5 rows × 23 columns</p>\n",
       "</div>"
      ],
      "text/plain": [
       "   Store StoreType Assortment  Promo2 PromoInterval       Date  Customers  \\\n",
       "0      1         2          0   False             0 2014-10-20        560   \n",
       "1      1         2          0   False             0 2013-07-15        657   \n",
       "2      1         2          0   False             0 2013-01-21        607   \n",
       "3      1         2          0   False             0 2015-03-16        605   \n",
       "4      1         2          0   False             0 2014-05-05        615   \n",
       "\n",
       "  DayOfWeek  Open  Promo  ...  competition_age_days  affectedbycompetition  \\\n",
       "0         1  True   True  ...                  2240                   True   \n",
       "1         1  True   True  ...                  1778                   True   \n",
       "2         1  True   True  ...                  1603                   True   \n",
       "3         1  True   True  ...                  2387                   True   \n",
       "4         1  True   True  ...                  2072                   True   \n",
       "\n",
       "  affectedbypromo2  OpeningType  month  year dateofmonth CompetitionDistance  \\\n",
       "0            False            0     10  2014          20                1270   \n",
       "1            False            0      7  2013          15                1270   \n",
       "2            False            0      1  2013          21                1270   \n",
       "3            False            0      3  2015          16                1270   \n",
       "4            False            0      5  2014           5                1270   \n",
       "\n",
       "  CompetitionAge_sqrt CompetitionDistance_bc  \n",
       "0                  47                     10  \n",
       "1                  42                     10  \n",
       "2                  40                     10  \n",
       "3                  49                     10  \n",
       "4                  46                     10  \n",
       "\n",
       "[5 rows x 23 columns]"
      ]
     },
     "execution_count": 31,
     "metadata": {},
     "output_type": "execute_result"
    }
   ],
   "source": [
    "trainset.head()"
   ]
  },
  {
   "cell_type": "code",
   "execution_count": 32,
   "metadata": {},
   "outputs": [],
   "source": [
    "#Saving\n",
    "trainset.to_csv(\"train_complete_transformed.csv\", index=False)"
   ]
  },
  {
   "cell_type": "code",
   "execution_count": null,
   "metadata": {},
   "outputs": [],
   "source": []
  },
  {
   "cell_type": "code",
   "execution_count": 97,
   "metadata": {
    "scrolled": true
   },
   "outputs": [
    {
     "data": {
      "text/html": [
       "<div>\n",
       "<style scoped>\n",
       "    .dataframe tbody tr th:only-of-type {\n",
       "        vertical-align: middle;\n",
       "    }\n",
       "\n",
       "    .dataframe tbody tr th {\n",
       "        vertical-align: top;\n",
       "    }\n",
       "\n",
       "    .dataframe thead th {\n",
       "        text-align: right;\n",
       "    }\n",
       "</style>\n",
       "<table border=\"1\" class=\"dataframe\">\n",
       "  <thead>\n",
       "    <tr style=\"text-align: right;\">\n",
       "      <th></th>\n",
       "      <th>Store</th>\n",
       "      <th>StoreType</th>\n",
       "      <th>Assortment</th>\n",
       "      <th>Promo2</th>\n",
       "      <th>PromoInterval</th>\n",
       "      <th>DayOfWeek</th>\n",
       "      <th>Date</th>\n",
       "      <th>Sales</th>\n",
       "      <th>Open</th>\n",
       "      <th>Promo</th>\n",
       "      <th>StateHoliday</th>\n",
       "      <th>SchoolHoliday</th>\n",
       "      <th>affectedbypromo2</th>\n",
       "      <th>affectedbycompetition</th>\n",
       "      <th>month</th>\n",
       "      <th>NewPromo2Month</th>\n",
       "      <th>OpeningType</th>\n",
       "      <th>CompetitionAge_sqrt</th>\n",
       "      <th>CompetitionDistance_bc</th>\n",
       "    </tr>\n",
       "  </thead>\n",
       "  <tbody>\n",
       "    <tr>\n",
       "      <th>0</th>\n",
       "      <td>1</td>\n",
       "      <td>2</td>\n",
       "      <td>0</td>\n",
       "      <td>False</td>\n",
       "      <td>0</td>\n",
       "      <td>4</td>\n",
       "      <td>2015-09-17</td>\n",
       "      <td>NaN</td>\n",
       "      <td>True</td>\n",
       "      <td>True</td>\n",
       "      <td>0</td>\n",
       "      <td>False</td>\n",
       "      <td>False</td>\n",
       "      <td>True</td>\n",
       "      <td>9</td>\n",
       "      <td>False</td>\n",
       "      <td>0</td>\n",
       "      <td>50.714889</td>\n",
       "      <td>11.386008</td>\n",
       "    </tr>\n",
       "    <tr>\n",
       "      <th>1</th>\n",
       "      <td>1</td>\n",
       "      <td>2</td>\n",
       "      <td>0</td>\n",
       "      <td>False</td>\n",
       "      <td>0</td>\n",
       "      <td>3</td>\n",
       "      <td>2015-09-16</td>\n",
       "      <td>NaN</td>\n",
       "      <td>True</td>\n",
       "      <td>True</td>\n",
       "      <td>0</td>\n",
       "      <td>False</td>\n",
       "      <td>False</td>\n",
       "      <td>True</td>\n",
       "      <td>9</td>\n",
       "      <td>False</td>\n",
       "      <td>0</td>\n",
       "      <td>50.705029</td>\n",
       "      <td>11.386008</td>\n",
       "    </tr>\n",
       "    <tr>\n",
       "      <th>2</th>\n",
       "      <td>1</td>\n",
       "      <td>2</td>\n",
       "      <td>0</td>\n",
       "      <td>False</td>\n",
       "      <td>0</td>\n",
       "      <td>2</td>\n",
       "      <td>2015-09-15</td>\n",
       "      <td>NaN</td>\n",
       "      <td>True</td>\n",
       "      <td>True</td>\n",
       "      <td>0</td>\n",
       "      <td>False</td>\n",
       "      <td>False</td>\n",
       "      <td>True</td>\n",
       "      <td>9</td>\n",
       "      <td>False</td>\n",
       "      <td>0</td>\n",
       "      <td>50.695167</td>\n",
       "      <td>11.386008</td>\n",
       "    </tr>\n",
       "    <tr>\n",
       "      <th>3</th>\n",
       "      <td>1</td>\n",
       "      <td>2</td>\n",
       "      <td>0</td>\n",
       "      <td>False</td>\n",
       "      <td>0</td>\n",
       "      <td>1</td>\n",
       "      <td>2015-09-14</td>\n",
       "      <td>NaN</td>\n",
       "      <td>True</td>\n",
       "      <td>True</td>\n",
       "      <td>0</td>\n",
       "      <td>False</td>\n",
       "      <td>False</td>\n",
       "      <td>True</td>\n",
       "      <td>9</td>\n",
       "      <td>False</td>\n",
       "      <td>0</td>\n",
       "      <td>50.685304</td>\n",
       "      <td>11.386008</td>\n",
       "    </tr>\n",
       "    <tr>\n",
       "      <th>4</th>\n",
       "      <td>1</td>\n",
       "      <td>2</td>\n",
       "      <td>0</td>\n",
       "      <td>False</td>\n",
       "      <td>0</td>\n",
       "      <td>7</td>\n",
       "      <td>2015-09-13</td>\n",
       "      <td>NaN</td>\n",
       "      <td>False</td>\n",
       "      <td>False</td>\n",
       "      <td>0</td>\n",
       "      <td>False</td>\n",
       "      <td>False</td>\n",
       "      <td>True</td>\n",
       "      <td>9</td>\n",
       "      <td>False</td>\n",
       "      <td>0</td>\n",
       "      <td>50.675438</td>\n",
       "      <td>11.386008</td>\n",
       "    </tr>\n",
       "  </tbody>\n",
       "</table>\n",
       "</div>"
      ],
      "text/plain": [
       "   Store StoreType Assortment  Promo2 PromoInterval DayOfWeek       Date  \\\n",
       "0      1         2          0   False             0         4 2015-09-17   \n",
       "1      1         2          0   False             0         3 2015-09-16   \n",
       "2      1         2          0   False             0         2 2015-09-15   \n",
       "3      1         2          0   False             0         1 2015-09-14   \n",
       "4      1         2          0   False             0         7 2015-09-13   \n",
       "\n",
       "   Sales   Open  Promo StateHoliday  SchoolHoliday  affectedbypromo2  \\\n",
       "0    NaN   True   True            0          False             False   \n",
       "1    NaN   True   True            0          False             False   \n",
       "2    NaN   True   True            0          False             False   \n",
       "3    NaN   True   True            0          False             False   \n",
       "4    NaN  False  False            0          False             False   \n",
       "\n",
       "   affectedbycompetition month  NewPromo2Month OpeningType  \\\n",
       "0                   True     9           False           0   \n",
       "1                   True     9           False           0   \n",
       "2                   True     9           False           0   \n",
       "3                   True     9           False           0   \n",
       "4                   True     9           False           0   \n",
       "\n",
       "   CompetitionAge_sqrt  CompetitionDistance_bc  \n",
       "0            50.714889               11.386008  \n",
       "1            50.705029               11.386008  \n",
       "2            50.695167               11.386008  \n",
       "3            50.685304               11.386008  \n",
       "4            50.675438               11.386008  "
      ]
     },
     "execution_count": 97,
     "metadata": {},
     "output_type": "execute_result"
    }
   ],
   "source": [
    "#Repeat to testset\n",
    "testset[\"CompetitionAge_sqrt\"] = np.sqrt(testset[\"competition_age_days\"])\n",
    "testset[\"CompetitionDistance_bc\"] = stats.boxcox(testset[\"CompetitionDistance\"])[0]\n",
    "testset = testset.drop([\"competition_age_days\", \"CompetitionDistance\"], axis = 1)\n",
    "testset.head()"
   ]
  },
  {
   "cell_type": "code",
   "execution_count": 100,
   "metadata": {},
   "outputs": [],
   "source": [
    "#Saving\n",
    "testset.to_csv(\"test_transformed.csv\", index=False)"
   ]
  },
  {
   "cell_type": "code",
   "execution_count": null,
   "metadata": {},
   "outputs": [],
   "source": []
  }
 ],
 "metadata": {
  "kernelspec": {
   "display_name": "Python 3",
   "language": "python",
   "name": "python3"
  },
  "language_info": {
   "codemirror_mode": {
    "name": "ipython",
    "version": 3
   },
   "file_extension": ".py",
   "mimetype": "text/x-python",
   "name": "python",
   "nbconvert_exporter": "python",
   "pygments_lexer": "ipython3",
   "version": "3.7.3"
  }
 },
 "nbformat": 4,
 "nbformat_minor": 4
}
